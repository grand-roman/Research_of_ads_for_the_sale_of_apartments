{
 "cells": [
  {
   "cell_type": "markdown",
   "metadata": {},
   "source": [
    "# Исследование объявлений о продаже квартир\n",
    "\n",
    "В вашем распоряжении данные сервиса Яндекс.Недвижимость — архив объявлений о продаже квартир в Санкт-Петербурге и соседних населённых пунктов за несколько лет. Нужно научиться определять рыночную стоимость объектов недвижимости. Ваша задача — установить параметры. Это позволит построить автоматизированную систему: она отследит аномалии и мошенническую деятельность. \n",
    "\n",
    "По каждой квартире на продажу доступны два вида данных. Первые вписаны пользователем, вторые — получены автоматически на основе картографических данных. Например, расстояние до центра, аэропорта, ближайшего парка и водоёма. \n"
   ]
  },
  {
   "cell_type": "markdown",
   "metadata": {},
   "source": [
    "# Описание данных\n",
    "\n",
    "- total_images — число фотографий квартиры в объявлении\n",
    "- last_price — цена на момент снятия с публикации\n",
    "- total_area — площадь квартиры в квадратных метрах (м²)\n",
    "- first_day_exposition — дата публикации\n",
    "- rooms — число комнат\n",
    "- ceiling_height — высота потолков (м)\n",
    "- floors_total — всего этажей в доме\n",
    "- living_area — жилая площадь (м²)\n",
    "- floor — этаж\n",
    "- is_apartment — апартаменты (булев тип)\n",
    "- studio — квартира-студия (булев тип)\n",
    "- open_plan — свободная планировка (булев тип)\n",
    "- kitchen_area — площадь кухни (м²)\n",
    "- balcony — число балконов\n",
    "- locality_name — название населённого пункта\n",
    "- airports_nearest — расстояние до ближайшего аэропорта в метрах (м)\n",
    "- cityCenters_nearest — расстояние до центра города (м)\n",
    "- parks_around3000 — число парков в радиусе 3 км\n",
    "- parks_nearest — расстояние до ближайшего парка (м)\n",
    "- ponds_around3000 — число водоёмов в радиусе 3 км\n",
    "- ponds_nearest — расстояние до ближайшего водоёма (м)\n",
    "- days_exposition — сколько дней было размещено объявление (от публикации до снятия)"
   ]
  },
  {
   "cell_type": "markdown",
   "metadata": {},
   "source": [
    "### Шаг 1. Откройте файл с данными и изучите общую информацию. "
   ]
  },
  {
   "cell_type": "code",
   "execution_count": 1,
   "metadata": {},
   "outputs": [
    {
     "data": {
      "text/html": [
       "<div>\n",
       "<style scoped>\n",
       "    .dataframe tbody tr th:only-of-type {\n",
       "        vertical-align: middle;\n",
       "    }\n",
       "\n",
       "    .dataframe tbody tr th {\n",
       "        vertical-align: top;\n",
       "    }\n",
       "\n",
       "    .dataframe thead th {\n",
       "        text-align: right;\n",
       "    }\n",
       "</style>\n",
       "<table border=\"1\" class=\"dataframe\">\n",
       "  <thead>\n",
       "    <tr style=\"text-align: right;\">\n",
       "      <th></th>\n",
       "      <th>total_images</th>\n",
       "      <th>last_price</th>\n",
       "      <th>total_area</th>\n",
       "      <th>first_day_exposition</th>\n",
       "      <th>rooms</th>\n",
       "      <th>ceiling_height</th>\n",
       "      <th>floors_total</th>\n",
       "      <th>living_area</th>\n",
       "      <th>floor</th>\n",
       "      <th>is_apartment</th>\n",
       "      <th>...</th>\n",
       "      <th>kitchen_area</th>\n",
       "      <th>balcony</th>\n",
       "      <th>locality_name</th>\n",
       "      <th>airports_nearest</th>\n",
       "      <th>cityCenters_nearest</th>\n",
       "      <th>parks_around3000</th>\n",
       "      <th>parks_nearest</th>\n",
       "      <th>ponds_around3000</th>\n",
       "      <th>ponds_nearest</th>\n",
       "      <th>days_exposition</th>\n",
       "    </tr>\n",
       "  </thead>\n",
       "  <tbody>\n",
       "    <tr>\n",
       "      <td>18373</td>\n",
       "      <td>8</td>\n",
       "      <td>3500000.0</td>\n",
       "      <td>35.36</td>\n",
       "      <td>2018-10-27T00:00:00</td>\n",
       "      <td>1</td>\n",
       "      <td>NaN</td>\n",
       "      <td>5.0</td>\n",
       "      <td>10.4</td>\n",
       "      <td>2</td>\n",
       "      <td>NaN</td>\n",
       "      <td>...</td>\n",
       "      <td>14.3</td>\n",
       "      <td>NaN</td>\n",
       "      <td>Санкт-Петербург</td>\n",
       "      <td>47039.0</td>\n",
       "      <td>25599.0</td>\n",
       "      <td>1.0</td>\n",
       "      <td>126.0</td>\n",
       "      <td>1.0</td>\n",
       "      <td>979.0</td>\n",
       "      <td>33.0</td>\n",
       "    </tr>\n",
       "    <tr>\n",
       "      <td>10786</td>\n",
       "      <td>11</td>\n",
       "      <td>5800000.0</td>\n",
       "      <td>65.80</td>\n",
       "      <td>2018-11-27T00:00:00</td>\n",
       "      <td>3</td>\n",
       "      <td>2.6</td>\n",
       "      <td>12.0</td>\n",
       "      <td>42.8</td>\n",
       "      <td>10</td>\n",
       "      <td>NaN</td>\n",
       "      <td>...</td>\n",
       "      <td>7.3</td>\n",
       "      <td>NaN</td>\n",
       "      <td>Санкт-Петербург</td>\n",
       "      <td>29906.0</td>\n",
       "      <td>12738.0</td>\n",
       "      <td>1.0</td>\n",
       "      <td>655.0</td>\n",
       "      <td>0.0</td>\n",
       "      <td>NaN</td>\n",
       "      <td>66.0</td>\n",
       "    </tr>\n",
       "    <tr>\n",
       "      <td>6272</td>\n",
       "      <td>19</td>\n",
       "      <td>6100000.0</td>\n",
       "      <td>75.00</td>\n",
       "      <td>2019-03-27T00:00:00</td>\n",
       "      <td>3</td>\n",
       "      <td>2.6</td>\n",
       "      <td>9.0</td>\n",
       "      <td>42.0</td>\n",
       "      <td>1</td>\n",
       "      <td>NaN</td>\n",
       "      <td>...</td>\n",
       "      <td>7.0</td>\n",
       "      <td>NaN</td>\n",
       "      <td>Санкт-Петербург</td>\n",
       "      <td>34707.0</td>\n",
       "      <td>12945.0</td>\n",
       "      <td>0.0</td>\n",
       "      <td>NaN</td>\n",
       "      <td>0.0</td>\n",
       "      <td>NaN</td>\n",
       "      <td>11.0</td>\n",
       "    </tr>\n",
       "    <tr>\n",
       "      <td>18128</td>\n",
       "      <td>9</td>\n",
       "      <td>3750000.0</td>\n",
       "      <td>48.40</td>\n",
       "      <td>2018-08-03T00:00:00</td>\n",
       "      <td>1</td>\n",
       "      <td>NaN</td>\n",
       "      <td>4.0</td>\n",
       "      <td>20.4</td>\n",
       "      <td>2</td>\n",
       "      <td>NaN</td>\n",
       "      <td>...</td>\n",
       "      <td>17.2</td>\n",
       "      <td>NaN</td>\n",
       "      <td>деревня Кальтино</td>\n",
       "      <td>NaN</td>\n",
       "      <td>NaN</td>\n",
       "      <td>NaN</td>\n",
       "      <td>NaN</td>\n",
       "      <td>NaN</td>\n",
       "      <td>NaN</td>\n",
       "      <td>222.0</td>\n",
       "    </tr>\n",
       "    <tr>\n",
       "      <td>8492</td>\n",
       "      <td>3</td>\n",
       "      <td>7445866.0</td>\n",
       "      <td>53.80</td>\n",
       "      <td>2018-07-24T00:00:00</td>\n",
       "      <td>2</td>\n",
       "      <td>NaN</td>\n",
       "      <td>25.0</td>\n",
       "      <td>25.3</td>\n",
       "      <td>12</td>\n",
       "      <td>NaN</td>\n",
       "      <td>...</td>\n",
       "      <td>14.4</td>\n",
       "      <td>NaN</td>\n",
       "      <td>Санкт-Петербург</td>\n",
       "      <td>37227.0</td>\n",
       "      <td>15564.0</td>\n",
       "      <td>0.0</td>\n",
       "      <td>NaN</td>\n",
       "      <td>0.0</td>\n",
       "      <td>NaN</td>\n",
       "      <td>58.0</td>\n",
       "    </tr>\n",
       "  </tbody>\n",
       "</table>\n",
       "<p>5 rows × 22 columns</p>\n",
       "</div>"
      ],
      "text/plain": [
       "       total_images  last_price  total_area first_day_exposition  rooms  \\\n",
       "18373             8   3500000.0       35.36  2018-10-27T00:00:00      1   \n",
       "10786            11   5800000.0       65.80  2018-11-27T00:00:00      3   \n",
       "6272             19   6100000.0       75.00  2019-03-27T00:00:00      3   \n",
       "18128             9   3750000.0       48.40  2018-08-03T00:00:00      1   \n",
       "8492              3   7445866.0       53.80  2018-07-24T00:00:00      2   \n",
       "\n",
       "       ceiling_height  floors_total  living_area  floor is_apartment  ...  \\\n",
       "18373             NaN           5.0         10.4      2          NaN  ...   \n",
       "10786             2.6          12.0         42.8     10          NaN  ...   \n",
       "6272              2.6           9.0         42.0      1          NaN  ...   \n",
       "18128             NaN           4.0         20.4      2          NaN  ...   \n",
       "8492              NaN          25.0         25.3     12          NaN  ...   \n",
       "\n",
       "       kitchen_area  balcony     locality_name  airports_nearest  \\\n",
       "18373          14.3      NaN   Санкт-Петербург           47039.0   \n",
       "10786           7.3      NaN   Санкт-Петербург           29906.0   \n",
       "6272            7.0      NaN   Санкт-Петербург           34707.0   \n",
       "18128          17.2      NaN  деревня Кальтино               NaN   \n",
       "8492           14.4      NaN   Санкт-Петербург           37227.0   \n",
       "\n",
       "      cityCenters_nearest  parks_around3000  parks_nearest  ponds_around3000  \\\n",
       "18373             25599.0               1.0          126.0               1.0   \n",
       "10786             12738.0               1.0          655.0               0.0   \n",
       "6272              12945.0               0.0            NaN               0.0   \n",
       "18128                 NaN               NaN            NaN               NaN   \n",
       "8492              15564.0               0.0            NaN               0.0   \n",
       "\n",
       "       ponds_nearest  days_exposition  \n",
       "18373          979.0             33.0  \n",
       "10786            NaN             66.0  \n",
       "6272             NaN             11.0  \n",
       "18128            NaN            222.0  \n",
       "8492             NaN             58.0  \n",
       "\n",
       "[5 rows x 22 columns]"
      ]
     },
     "execution_count": 1,
     "metadata": {},
     "output_type": "execute_result"
    }
   ],
   "source": [
    "import pandas as pd\n",
    "import matplotlib.pyplot as plt\n",
    "\n",
    "df = pd.read_csv('/datasets/real_estate_data.csv', sep='\\t')\n",
    "\n",
    "df.sample(5)\n"
   ]
  },
  {
   "cell_type": "code",
   "execution_count": 2,
   "metadata": {},
   "outputs": [
    {
     "data": {
      "text/html": [
       "<div>\n",
       "<style scoped>\n",
       "    .dataframe tbody tr th:only-of-type {\n",
       "        vertical-align: middle;\n",
       "    }\n",
       "\n",
       "    .dataframe tbody tr th {\n",
       "        vertical-align: top;\n",
       "    }\n",
       "\n",
       "    .dataframe thead th {\n",
       "        text-align: right;\n",
       "    }\n",
       "</style>\n",
       "<table border=\"1\" class=\"dataframe\">\n",
       "  <thead>\n",
       "    <tr style=\"text-align: right;\">\n",
       "      <th></th>\n",
       "      <th>total_images</th>\n",
       "      <th>last_price</th>\n",
       "      <th>total_area</th>\n",
       "      <th>rooms</th>\n",
       "      <th>ceiling_height</th>\n",
       "      <th>floors_total</th>\n",
       "      <th>living_area</th>\n",
       "      <th>floor</th>\n",
       "      <th>kitchen_area</th>\n",
       "      <th>balcony</th>\n",
       "      <th>airports_nearest</th>\n",
       "      <th>cityCenters_nearest</th>\n",
       "      <th>parks_around3000</th>\n",
       "      <th>parks_nearest</th>\n",
       "      <th>ponds_around3000</th>\n",
       "      <th>ponds_nearest</th>\n",
       "      <th>days_exposition</th>\n",
       "    </tr>\n",
       "  </thead>\n",
       "  <tbody>\n",
       "    <tr>\n",
       "      <td>count</td>\n",
       "      <td>23699.000000</td>\n",
       "      <td>2.369900e+04</td>\n",
       "      <td>23699.000000</td>\n",
       "      <td>23699.000000</td>\n",
       "      <td>14504.000000</td>\n",
       "      <td>23613.000000</td>\n",
       "      <td>21796.000000</td>\n",
       "      <td>23699.000000</td>\n",
       "      <td>21421.000000</td>\n",
       "      <td>12180.000000</td>\n",
       "      <td>18157.000000</td>\n",
       "      <td>18180.000000</td>\n",
       "      <td>18181.000000</td>\n",
       "      <td>8079.000000</td>\n",
       "      <td>18181.000000</td>\n",
       "      <td>9110.000000</td>\n",
       "      <td>20518.000000</td>\n",
       "    </tr>\n",
       "    <tr>\n",
       "      <td>mean</td>\n",
       "      <td>9.858475</td>\n",
       "      <td>6.541549e+06</td>\n",
       "      <td>60.348651</td>\n",
       "      <td>2.070636</td>\n",
       "      <td>2.771499</td>\n",
       "      <td>10.673824</td>\n",
       "      <td>34.457852</td>\n",
       "      <td>5.892358</td>\n",
       "      <td>10.569807</td>\n",
       "      <td>1.150082</td>\n",
       "      <td>28793.672193</td>\n",
       "      <td>14191.277833</td>\n",
       "      <td>0.611408</td>\n",
       "      <td>490.804555</td>\n",
       "      <td>0.770255</td>\n",
       "      <td>517.980900</td>\n",
       "      <td>180.888634</td>\n",
       "    </tr>\n",
       "    <tr>\n",
       "      <td>std</td>\n",
       "      <td>5.682529</td>\n",
       "      <td>1.088701e+07</td>\n",
       "      <td>35.654083</td>\n",
       "      <td>1.078405</td>\n",
       "      <td>1.261056</td>\n",
       "      <td>6.597173</td>\n",
       "      <td>22.030445</td>\n",
       "      <td>4.885249</td>\n",
       "      <td>5.905438</td>\n",
       "      <td>1.071300</td>\n",
       "      <td>12630.880622</td>\n",
       "      <td>8608.386210</td>\n",
       "      <td>0.802074</td>\n",
       "      <td>342.317995</td>\n",
       "      <td>0.938346</td>\n",
       "      <td>277.720643</td>\n",
       "      <td>219.727988</td>\n",
       "    </tr>\n",
       "    <tr>\n",
       "      <td>min</td>\n",
       "      <td>0.000000</td>\n",
       "      <td>1.219000e+04</td>\n",
       "      <td>12.000000</td>\n",
       "      <td>0.000000</td>\n",
       "      <td>1.000000</td>\n",
       "      <td>1.000000</td>\n",
       "      <td>2.000000</td>\n",
       "      <td>1.000000</td>\n",
       "      <td>1.300000</td>\n",
       "      <td>0.000000</td>\n",
       "      <td>0.000000</td>\n",
       "      <td>181.000000</td>\n",
       "      <td>0.000000</td>\n",
       "      <td>1.000000</td>\n",
       "      <td>0.000000</td>\n",
       "      <td>13.000000</td>\n",
       "      <td>1.000000</td>\n",
       "    </tr>\n",
       "    <tr>\n",
       "      <td>25%</td>\n",
       "      <td>6.000000</td>\n",
       "      <td>3.400000e+06</td>\n",
       "      <td>40.000000</td>\n",
       "      <td>1.000000</td>\n",
       "      <td>2.520000</td>\n",
       "      <td>5.000000</td>\n",
       "      <td>18.600000</td>\n",
       "      <td>2.000000</td>\n",
       "      <td>7.000000</td>\n",
       "      <td>0.000000</td>\n",
       "      <td>18585.000000</td>\n",
       "      <td>9238.000000</td>\n",
       "      <td>0.000000</td>\n",
       "      <td>288.000000</td>\n",
       "      <td>0.000000</td>\n",
       "      <td>294.000000</td>\n",
       "      <td>45.000000</td>\n",
       "    </tr>\n",
       "    <tr>\n",
       "      <td>50%</td>\n",
       "      <td>9.000000</td>\n",
       "      <td>4.650000e+06</td>\n",
       "      <td>52.000000</td>\n",
       "      <td>2.000000</td>\n",
       "      <td>2.650000</td>\n",
       "      <td>9.000000</td>\n",
       "      <td>30.000000</td>\n",
       "      <td>4.000000</td>\n",
       "      <td>9.100000</td>\n",
       "      <td>1.000000</td>\n",
       "      <td>26726.000000</td>\n",
       "      <td>13098.500000</td>\n",
       "      <td>0.000000</td>\n",
       "      <td>455.000000</td>\n",
       "      <td>1.000000</td>\n",
       "      <td>502.000000</td>\n",
       "      <td>95.000000</td>\n",
       "    </tr>\n",
       "    <tr>\n",
       "      <td>75%</td>\n",
       "      <td>14.000000</td>\n",
       "      <td>6.800000e+06</td>\n",
       "      <td>69.900000</td>\n",
       "      <td>3.000000</td>\n",
       "      <td>2.800000</td>\n",
       "      <td>16.000000</td>\n",
       "      <td>42.300000</td>\n",
       "      <td>8.000000</td>\n",
       "      <td>12.000000</td>\n",
       "      <td>2.000000</td>\n",
       "      <td>37273.000000</td>\n",
       "      <td>16293.000000</td>\n",
       "      <td>1.000000</td>\n",
       "      <td>612.000000</td>\n",
       "      <td>1.000000</td>\n",
       "      <td>729.000000</td>\n",
       "      <td>232.000000</td>\n",
       "    </tr>\n",
       "    <tr>\n",
       "      <td>max</td>\n",
       "      <td>50.000000</td>\n",
       "      <td>7.630000e+08</td>\n",
       "      <td>900.000000</td>\n",
       "      <td>19.000000</td>\n",
       "      <td>100.000000</td>\n",
       "      <td>60.000000</td>\n",
       "      <td>409.700000</td>\n",
       "      <td>33.000000</td>\n",
       "      <td>112.000000</td>\n",
       "      <td>5.000000</td>\n",
       "      <td>84869.000000</td>\n",
       "      <td>65968.000000</td>\n",
       "      <td>3.000000</td>\n",
       "      <td>3190.000000</td>\n",
       "      <td>3.000000</td>\n",
       "      <td>1344.000000</td>\n",
       "      <td>1580.000000</td>\n",
       "    </tr>\n",
       "  </tbody>\n",
       "</table>\n",
       "</div>"
      ],
      "text/plain": [
       "       total_images    last_price    total_area         rooms  ceiling_height  \\\n",
       "count  23699.000000  2.369900e+04  23699.000000  23699.000000    14504.000000   \n",
       "mean       9.858475  6.541549e+06     60.348651      2.070636        2.771499   \n",
       "std        5.682529  1.088701e+07     35.654083      1.078405        1.261056   \n",
       "min        0.000000  1.219000e+04     12.000000      0.000000        1.000000   \n",
       "25%        6.000000  3.400000e+06     40.000000      1.000000        2.520000   \n",
       "50%        9.000000  4.650000e+06     52.000000      2.000000        2.650000   \n",
       "75%       14.000000  6.800000e+06     69.900000      3.000000        2.800000   \n",
       "max       50.000000  7.630000e+08    900.000000     19.000000      100.000000   \n",
       "\n",
       "       floors_total   living_area         floor  kitchen_area       balcony  \\\n",
       "count  23613.000000  21796.000000  23699.000000  21421.000000  12180.000000   \n",
       "mean      10.673824     34.457852      5.892358     10.569807      1.150082   \n",
       "std        6.597173     22.030445      4.885249      5.905438      1.071300   \n",
       "min        1.000000      2.000000      1.000000      1.300000      0.000000   \n",
       "25%        5.000000     18.600000      2.000000      7.000000      0.000000   \n",
       "50%        9.000000     30.000000      4.000000      9.100000      1.000000   \n",
       "75%       16.000000     42.300000      8.000000     12.000000      2.000000   \n",
       "max       60.000000    409.700000     33.000000    112.000000      5.000000   \n",
       "\n",
       "       airports_nearest  cityCenters_nearest  parks_around3000  parks_nearest  \\\n",
       "count      18157.000000         18180.000000      18181.000000    8079.000000   \n",
       "mean       28793.672193         14191.277833          0.611408     490.804555   \n",
       "std        12630.880622          8608.386210          0.802074     342.317995   \n",
       "min            0.000000           181.000000          0.000000       1.000000   \n",
       "25%        18585.000000          9238.000000          0.000000     288.000000   \n",
       "50%        26726.000000         13098.500000          0.000000     455.000000   \n",
       "75%        37273.000000         16293.000000          1.000000     612.000000   \n",
       "max        84869.000000         65968.000000          3.000000    3190.000000   \n",
       "\n",
       "       ponds_around3000  ponds_nearest  days_exposition  \n",
       "count      18181.000000    9110.000000     20518.000000  \n",
       "mean           0.770255     517.980900       180.888634  \n",
       "std            0.938346     277.720643       219.727988  \n",
       "min            0.000000      13.000000         1.000000  \n",
       "25%            0.000000     294.000000        45.000000  \n",
       "50%            1.000000     502.000000        95.000000  \n",
       "75%            1.000000     729.000000       232.000000  \n",
       "max            3.000000    1344.000000      1580.000000  "
      ]
     },
     "execution_count": 2,
     "metadata": {},
     "output_type": "execute_result"
    }
   ],
   "source": [
    "df.describe()"
   ]
  },
  {
   "cell_type": "code",
   "execution_count": 3,
   "metadata": {},
   "outputs": [
    {
     "name": "stdout",
     "output_type": "stream",
     "text": [
      "<class 'pandas.core.frame.DataFrame'>\n",
      "RangeIndex: 23699 entries, 0 to 23698\n",
      "Data columns (total 22 columns):\n",
      "total_images            23699 non-null int64\n",
      "last_price              23699 non-null float64\n",
      "total_area              23699 non-null float64\n",
      "first_day_exposition    23699 non-null object\n",
      "rooms                   23699 non-null int64\n",
      "ceiling_height          14504 non-null float64\n",
      "floors_total            23613 non-null float64\n",
      "living_area             21796 non-null float64\n",
      "floor                   23699 non-null int64\n",
      "is_apartment            2775 non-null object\n",
      "studio                  23699 non-null bool\n",
      "open_plan               23699 non-null bool\n",
      "kitchen_area            21421 non-null float64\n",
      "balcony                 12180 non-null float64\n",
      "locality_name           23650 non-null object\n",
      "airports_nearest        18157 non-null float64\n",
      "cityCenters_nearest     18180 non-null float64\n",
      "parks_around3000        18181 non-null float64\n",
      "parks_nearest           8079 non-null float64\n",
      "ponds_around3000        18181 non-null float64\n",
      "ponds_nearest           9110 non-null float64\n",
      "days_exposition         20518 non-null float64\n",
      "dtypes: bool(2), float64(14), int64(3), object(3)\n",
      "memory usage: 3.7+ MB\n",
      "Количество дубликатов: 0\n"
     ]
    }
   ],
   "source": [
    "df.info()\n",
    "print('Количество дубликатов: {}'.format(df.duplicated().sum()))"
   ]
  },
  {
   "cell_type": "markdown",
   "metadata": {},
   "source": [
    "### Вывод"
   ]
  },
  {
   "cell_type": "markdown",
   "metadata": {},
   "source": [
    "\n",
    "Проблемы, которые нужно решить и понять:\n",
    "\n",
    "- отсутствую значения, много значений, очень много значений\n",
    "Есть пропущенные значения например столбец is_apartment или studio - в них булево значение и если есть NaN, то логично, что данные не указаны и их можно споаойно заменить на False\n",
    "Так же пропущенны значения расстояния до ближайших водоемов и парков - NaN. Их можно заменить на 0, если количество парков в радиусе 3 км тоже - 0. Либо на 3000 метров - если в радиусе 3км есть хоть 1 парк.\n",
    "- некачественные названия столбцов\n",
    "- некорректные типы данных\n"
   ]
  },
  {
   "cell_type": "markdown",
   "metadata": {},
   "source": [
    "### Шаг 2. Предобработка данных"
   ]
  },
  {
   "cell_type": "code",
   "execution_count": 4,
   "metadata": {},
   "outputs": [
    {
     "data": {
      "text/plain": [
       "['total_images',\n",
       " 'last_price',\n",
       " 'total_area',\n",
       " 'first_day_exposition',\n",
       " 'rooms',\n",
       " 'ceiling_height',\n",
       " 'floors_total',\n",
       " 'living_area',\n",
       " 'floor',\n",
       " 'is_apartment',\n",
       " 'studio',\n",
       " 'open_plan',\n",
       " 'kitchen_area',\n",
       " 'balcony',\n",
       " 'locality_name',\n",
       " 'airports_nearest',\n",
       " 'cityCenters_nearest',\n",
       " 'parks_around3000',\n",
       " 'parks_nearest',\n",
       " 'ponds_around3000',\n",
       " 'ponds_nearest',\n",
       " 'days_exposition']"
      ]
     },
     "execution_count": 4,
     "metadata": {},
     "output_type": "execute_result"
    }
   ],
   "source": [
    "df.columns.tolist()"
   ]
  },
  {
   "cell_type": "code",
   "execution_count": 5,
   "metadata": {},
   "outputs": [],
   "source": [
    "cols = ['total_images',\n",
    "        'last_price',\n",
    "        'total_area_m2',\n",
    "        'first_day_exposition',\n",
    "        'number_of_rooms',\n",
    "        'ceiling_height_m2',\n",
    "        'total_floors_in_house',\n",
    "        'living_area_m2',\n",
    "        'floor',\n",
    "        'is_apartment',\n",
    "        'is_studio',\n",
    "        'is_open_plan',\n",
    "        'kitchen_area_m2',   \n",
    "        'number_of_balconies',\n",
    "        'city_name',\n",
    "        'nearest_airport_distance_m',    \n",
    "        'city_center_distance_m',\n",
    "        'parks_numbers_within_3km',\n",
    "        'nearest_park_distance_m',\n",
    "        'ponds_numbers_within_3km',\n",
    "        'nearest_pond_distance_m',\n",
    "        'days_exposition']\n",
    "\n",
    "df.columns = cols"
   ]
  },
  {
   "cell_type": "code",
   "execution_count": 6,
   "metadata": {},
   "outputs": [
    {
     "data": {
      "text/plain": [
       "['total_images',\n",
       " 'last_price',\n",
       " 'total_area_m2',\n",
       " 'first_day_exposition',\n",
       " 'number_of_rooms',\n",
       " 'ceiling_height_m2',\n",
       " 'total_floors_in_house',\n",
       " 'living_area_m2',\n",
       " 'floor',\n",
       " 'is_apartment',\n",
       " 'is_studio',\n",
       " 'is_open_plan',\n",
       " 'kitchen_area_m2',\n",
       " 'number_of_balconies',\n",
       " 'city_name',\n",
       " 'nearest_airport_distance_m',\n",
       " 'city_center_distance_m',\n",
       " 'parks_numbers_within_3km',\n",
       " 'nearest_park_distance_m',\n",
       " 'ponds_numbers_within_3km',\n",
       " 'nearest_pond_distance_m',\n",
       " 'days_exposition']"
      ]
     },
     "execution_count": 6,
     "metadata": {},
     "output_type": "execute_result"
    }
   ],
   "source": [
    "# Убедимся, что столбцы переименованы\n",
    "df.columns.tolist()"
   ]
  },
  {
   "cell_type": "code",
   "execution_count": 7,
   "metadata": {},
   "outputs": [
    {
     "data": {
      "text/plain": [
       "total_images                      0\n",
       "is_open_plan                      0\n",
       "floor                             0\n",
       "number_of_rooms                   0\n",
       "is_studio                         0\n",
       "total_area_m2                     0\n",
       "last_price                        0\n",
       "first_day_exposition              0\n",
       "city_name                        49\n",
       "total_floors_in_house            86\n",
       "living_area_m2                 1903\n",
       "kitchen_area_m2                2278\n",
       "days_exposition                3181\n",
       "ponds_numbers_within_3km       5518\n",
       "parks_numbers_within_3km       5518\n",
       "city_center_distance_m         5519\n",
       "nearest_airport_distance_m     5542\n",
       "ceiling_height_m2              9195\n",
       "number_of_balconies           11519\n",
       "nearest_pond_distance_m       14589\n",
       "nearest_park_distance_m       15620\n",
       "is_apartment                  20924\n",
       "dtype: int64"
      ]
     },
     "execution_count": 7,
     "metadata": {},
     "output_type": "execute_result"
    }
   ],
   "source": [
    "df.isnull().sum().sort_values()"
   ]
  },
  {
   "cell_type": "code",
   "execution_count": 8,
   "metadata": {},
   "outputs": [
    {
     "data": {
      "text/plain": [
       "total_images                   0.000000\n",
       "is_open_plan                   0.000000\n",
       "floor                          0.000000\n",
       "number_of_rooms                0.000000\n",
       "is_studio                      0.000000\n",
       "total_area_m2                  0.000000\n",
       "last_price                     0.000000\n",
       "first_day_exposition           0.000000\n",
       "city_name                      0.206760\n",
       "total_floors_in_house          0.362885\n",
       "living_area_m2                 8.029875\n",
       "kitchen_area_m2                9.612220\n",
       "days_exposition               13.422507\n",
       "ponds_numbers_within_3km      23.283683\n",
       "parks_numbers_within_3km      23.283683\n",
       "city_center_distance_m        23.287902\n",
       "nearest_airport_distance_m    23.384953\n",
       "ceiling_height_m2             38.799105\n",
       "number_of_balconies           48.605426\n",
       "nearest_pond_distance_m       61.559559\n",
       "nearest_park_distance_m       65.909954\n",
       "is_apartment                  88.290645\n",
       "dtype: float64"
      ]
     },
     "execution_count": 8,
     "metadata": {},
     "output_type": "execute_result"
    }
   ],
   "source": [
    "df.isnull().sum().sort_values()/df.shape[0]*100"
   ]
  },
  {
   "cell_type": "markdown",
   "metadata": {},
   "source": [
    "## Населенные пункты"
   ]
  },
  {
   "cell_type": "code",
   "execution_count": 9,
   "metadata": {},
   "outputs": [
    {
     "name": "stdout",
     "output_type": "stream",
     "text": [
      "Убрали 34 дубля\n",
      "Количество пропусков столбца city_name - 49\n",
      "Количество пропусков столбца city_name - 0\n"
     ]
    }
   ],
   "source": [
    "old_len_city = len(df['city_name'].unique())\n",
    "df['city_name'] = df['city_name'].str.lower()\n",
    "len(df['city_name'].unique())\n",
    "# Не помогло\n",
    "df['city_name'].unique().tolist()\n",
    "df['city_name'] = df['city_name'].str.replace('ё', 'е', regex=True)\n",
    "print('Убрали {} дубля'.format(old_len_city - len(df['city_name'].unique())))\n",
    "\n",
    "print('Количество пропусков столбца city_name - {}'.format(df['city_name'].isnull().sum()))\n",
    "\n",
    "df = df.dropna(subset=['city_name'])\n",
    "print('Количество пропусков столбца city_name - {}'.format(df['city_name'].isnull().sum()))\n"
   ]
  },
  {
   "cell_type": "markdown",
   "metadata": {},
   "source": [
    "### Вывод\n",
    "Пустых строк всего лишь 49 - это менее 1% от всех данных. Такие данные к анализу не приведут."
   ]
  },
  {
   "cell_type": "markdown",
   "metadata": {},
   "source": [
    "##  Количество этажей в доме"
   ]
  },
  {
   "cell_type": "code",
   "execution_count": 10,
   "metadata": {},
   "outputs": [
    {
     "name": "stdout",
     "output_type": "stream",
     "text": [
      "Количество пропусков столбца total_floors_in_house - 85\n",
      "Количество пропусков столбца total_floors_in_house - 0\n"
     ]
    }
   ],
   "source": [
    "print('Количество пропусков столбца total_floors_in_house - {}'.format(df['total_floors_in_house'].isnull().sum()))\n",
    "df['total_floors_in_house'] = df['total_floors_in_house'].fillna(1)\n",
    "print('Количество пропусков столбца total_floors_in_house - {}'.format(df['total_floors_in_house'].isnull().sum()))"
   ]
  },
  {
   "cell_type": "markdown",
   "metadata": {},
   "source": [
    "### Вывод\n",
    "Можно предположить, что это одноэтажные дома. Заполним пропуски значением 1. Даже если наше предположение ошибочно, 86 записей не должны сильно сдвинуть распределение."
   ]
  },
  {
   "cell_type": "markdown",
   "metadata": {},
   "source": [
    "## Апартаменты"
   ]
  },
  {
   "cell_type": "code",
   "execution_count": 11,
   "metadata": {},
   "outputs": [
    {
     "name": "stdout",
     "output_type": "stream",
     "text": [
      "Количество пропусков столбца is_apartment - 20890\n",
      "Количество пропусков столбца is_apartment - 0\n"
     ]
    }
   ],
   "source": [
    "print('Количество пропусков столбца is_apartment - {}'.format(df['is_apartment'].isnull().sum()))\n",
    "df['is_apartment'] = df['is_apartment'].fillna(0)\n",
    "print('Количество пропусков столбца is_apartment - {}'.format(df['is_apartment'].isnull().sum()))"
   ]
  },
  {
   "cell_type": "markdown",
   "metadata": {},
   "source": [
    "### Вывод\n",
    "Отсутсвие значений можно спокойно заменить на False, так как это у нас булевский столбец"
   ]
  },
  {
   "cell_type": "markdown",
   "metadata": {},
   "source": [
    "## Количество балконов"
   ]
  },
  {
   "cell_type": "code",
   "execution_count": 12,
   "metadata": {},
   "outputs": [
    {
     "name": "stdout",
     "output_type": "stream",
     "text": [
      "Количество пропусков столбца number_of_balconies - 11513\n",
      "Количество пропусков столбца number_of_balconies - 0\n"
     ]
    }
   ],
   "source": [
    "print('Количество пропусков столбца number_of_balconies - {}'.format(df['number_of_balconies'].isnull().sum()))\n",
    "\n",
    "df['number_of_balconies'] = df['number_of_balconies'].fillna(0)\n",
    "print('Количество пропусков столбца number_of_balconies - {}'.format(df['number_of_balconies'].isnull().sum()))"
   ]
  },
  {
   "cell_type": "markdown",
   "metadata": {},
   "source": [
    "### Вывод\n",
    "Отсутсвие значений на количество балконов говорит нам об их отсутсвии. \n",
    "Если данные взяты с пользователей,что их вводили, то отсавили бы они поле пустым?"
   ]
  },
  {
   "cell_type": "markdown",
   "metadata": {},
   "source": [
    "## Расстояние до парков и водоемов"
   ]
  },
  {
   "cell_type": "code",
   "execution_count": 13,
   "metadata": {},
   "outputs": [
    {
     "name": "stdout",
     "output_type": "stream",
     "text": [
      "Количество пропусков столбца nearest_pond_distance_m - 14565\n",
      "Количество пропусков столбца nearest_park_distance_m - 15586\n",
      "Количество пропусков столбца nearest_pond_distance_m - 5510\n",
      "Количество пропусков столбца nearest_park_distance_m - 5510\n",
      "Количество пропусков столбца parks_numbers_within_3km - 5510\n",
      "Количество пропусков столбца ponds_numbers_within_3km - 5510\n",
      "Количество пропусков столбца nearest_pond_distance_m - 0\n",
      "Количество пропусков столбца nearest_park_distance_m - 0\n",
      "Количество пропусков столбца parks_numbers_within_3km - 0\n",
      "Количество пропусков столбца ponds_numbers_within_3km - 0\n"
     ]
    }
   ],
   "source": [
    "print('Количество пропусков столбца nearest_pond_distance_m - {}'.format(df['nearest_pond_distance_m'].isnull().sum()))\n",
    "print('Количество пропусков столбца nearest_park_distance_m - {}'.format(df['nearest_park_distance_m'].isnull().sum()))\n",
    "df.loc[(df['nearest_pond_distance_m'].isnull()) &\n",
    "        (df['ponds_numbers_within_3km'] > 0 ) ,'nearest_pond_distance_m'] = 3000\n",
    "df.loc[(df['nearest_pond_distance_m'].isnull()) &\n",
    "       (df['ponds_numbers_within_3km'] < 1 ) ,'nearest_pond_distance_m'] = 0\n",
    "\n",
    "df.loc[(df['nearest_park_distance_m'].isnull()) &\n",
    "       (df['parks_numbers_within_3km'] > 0 ) ,'nearest_park_distance_m'] = 3000\n",
    "df.loc[(df['nearest_park_distance_m'].isnull()) &\n",
    "       (df['parks_numbers_within_3km'] < 1 ) ,'nearest_park_distance_m'] = 0\n",
    "\n",
    "#но мы не избавились от всех пропусков\n",
    "print('Количество пропусков столбца nearest_pond_distance_m - {}'.format(df['nearest_pond_distance_m'].isnull().sum()))\n",
    "print('Количество пропусков столбца nearest_park_distance_m - {}'.format(df['nearest_park_distance_m'].isnull().sum()))\n",
    "\n",
    "print('Количество пропусков столбца parks_numbers_within_3km - {}'.format(df['parks_numbers_within_3km'].isnull().sum()))\n",
    "print('Количество пропусков столбца ponds_numbers_within_3km - {}'.format(df['ponds_numbers_within_3km'].isnull().sum()))\n",
    "\n",
    "df['parks_numbers_within_3km'] = df['parks_numbers_within_3km'].fillna(0)\n",
    "df['ponds_numbers_within_3km'] = df['ponds_numbers_within_3km'].fillna(0)\n",
    "\n",
    "df['nearest_pond_distance_m'] = df['nearest_pond_distance_m'].fillna(4000)\n",
    "df['nearest_park_distance_m'] = df['nearest_park_distance_m'].fillna(4000)\n",
    "\n",
    "#Проверим что пропусков точно нет\n",
    "print('Количество пропусков столбца nearest_pond_distance_m - {}'.format(df['nearest_pond_distance_m'].isnull().sum()))\n",
    "print('Количество пропусков столбца nearest_park_distance_m - {}'.format(df['nearest_park_distance_m'].isnull().sum()))\n",
    "\n",
    "print('Количество пропусков столбца parks_numbers_within_3km - {}'.format(df['parks_numbers_within_3km'].isnull().sum()))\n",
    "print('Количество пропусков столбца ponds_numbers_within_3km - {}'.format(df['ponds_numbers_within_3km'].isnull().sum()))\n"
   ]
  },
  {
   "cell_type": "markdown",
   "metadata": {},
   "source": [
    "### Вывод\n",
    "- Пропущенные значения расстояния до ближайших водоемов и парков = NaN. \n",
    "Их можно заменить на 0, если количество парков в радиусе 3 км тоже - 0. \n",
    "Либо на 3000 метров - если в радиусе 3км есть хоть 1 парк, но мы пока не зибавились от всех пропусков\n",
    "\n",
    "- Пропущенные значения у столбцов parks_numbers_within_3km и ponds_numbers_within_3km. Пользователь мог не вводить данные в связи отсутсвии парков или водоемов вокруг его. Поэтому заменим их на - 0\n",
    "\n",
    "- Оставшие пропущенные значения у столбцов nearest_pond_distance_m и nearest_park_distance_m тоже заменим на 4000 метров, так как нет данных что парки находяться рядом в районе 3км, то пометим их больше 3км. При анализе такие значения будет не сложно фильтровать. 0 будет означать отсутсвия парков."
   ]
  },
  {
   "cell_type": "markdown",
   "metadata": {},
   "source": [
    "## Площадь квартиры, кухни, жилых комнат"
   ]
  },
  {
   "cell_type": "code",
   "execution_count": 14,
   "metadata": {},
   "outputs": [
    {
     "name": "stdout",
     "output_type": "stream",
     "text": [
      "Количество пропусков жилой площади - 1898\n",
      "Количество пропусков кухни - 2269\n",
      "Количество пропусков жилой площади - 1460\n",
      "Количество пропусков кухни - 1460\n"
     ]
    },
    {
     "data": {
      "image/png": "[encoded data removed]",
      "text/plain": [
       "<Figure size 432x288 with 1 Axes>"
      ]
     },
     "metadata": {},
     "output_type": "display_data"
    },
    {
     "data": {
      "image/png": "[encoded data removed]",
      "text/plain": [
       "<Figure size 432x288 with 1 Axes>"
      ]
     },
     "metadata": {},
     "output_type": "display_data"
    },
    {
     "data": {
      "image/png": "[encoded data removed]",
      "text/plain": [
       "<Figure size 432x288 with 1 Axes>"
      ]
     },
     "metadata": {},
     "output_type": "display_data"
    },
    {
     "data": {
      "image/png": "[encoded data removed]",
      "text/plain": [
       "<Figure size 432x288 with 1 Axes>"
      ]
     },
     "metadata": {},
     "output_type": "display_data"
    },
    {
     "name": "stdout",
     "output_type": "stream",
     "text": [
      "Количество пропусков жилой площади - 0\n",
      "Количество пропусков кухни - 0\n"
     ]
    }
   ],
   "source": [
    "print('Количество пропусков жилой площади - {}'.format(df['living_area_m2'].isnull().sum()))\n",
    "print('Количество пропусков кухни - {}'.format(df['kitchen_area_m2'].isnull().sum()))\n",
    "\n",
    "df.loc[~(df['kitchen_area_m2'].isnull()) ,'living_area_m2'] = df['total_area_m2'] - df['kitchen_area_m2']\n",
    "df.loc[~(df['living_area_m2'].isnull()) ,'kitchen_area_m2'] = df['total_area_m2'] - df['living_area_m2']\n",
    "#но мы пока не зибавились от всех пропусков\n",
    "print('Количество пропусков жилой площади - {}'.format(df['living_area_m2'].isnull().sum()))\n",
    "print('Количество пропусков кухни - {}'.format(df['kitchen_area_m2'].isnull().sum()))\n",
    "\n",
    "null_living_area = df[df['living_area_m2'].isnull()]\n",
    "null_living_area['is_apartment'].value_counts().plot(kind='pie')\n",
    "plt.show()\n",
    "null_living_area['is_studio'].value_counts().plot(kind='pie')\n",
    "plt.show()\n",
    "#не может - заполняем медианой\n",
    "df.loc[df['living_area_m2'].isnull(), 'living_area_m2'] = df['living_area_m2'].median()\n",
    "#проверим тоже самое для кухни\n",
    "null_kitchen_area_m2 = df[df['kitchen_area_m2'].isnull()]\n",
    "null_kitchen_area_m2['is_apartment'].value_counts().plot(kind='pie')\n",
    "plt.show()\n",
    "null_kitchen_area_m2['is_studio'].value_counts().plot(kind='pie')\n",
    "plt.show()\n",
    "#решение такое же - заполняем медианой\n",
    "df.loc[df['kitchen_area_m2'].isnull(), 'kitchen_area_m2'] = df['kitchen_area_m2'].median()\n",
    "print('Количество пропусков жилой площади - {}'.format(df['living_area_m2'].isnull().sum()))\n",
    "print('Количество пропусков кухни - {}'.format(df['kitchen_area_m2'].isnull().sum()))\n"
   ]
  },
  {
   "cell_type": "markdown",
   "metadata": {},
   "source": [
    "### Вывод\n",
    "- Для квартир в которых есть данные о площади кухни ИЛИ жилой части - можно у другой части вычеслить по формуле total_area = living_area + kitchen_area\n",
    ",но мы пока не зибавились от всех пропусков\n",
    "- Чтобы избавиться от отсавших пропусков можно было бы заполнить медиано\n",
    "Заполнить пропуски медианой – не совсем правильное решение, т.к. медиана может быть больше общей площади квартиры.\n",
    "ИТОГ - заполняем медианой "
   ]
  },
  {
   "cell_type": "markdown",
   "metadata": {},
   "source": [
    "## От публикации до снятия"
   ]
  },
  {
   "cell_type": "code",
   "execution_count": 15,
   "metadata": {},
   "outputs": [
    {
     "name": "stdout",
     "output_type": "stream",
     "text": [
      "Количество пропусков столбца days_exposition - 3180\n",
      "Количество пропусков столбца days_exposition - 0\n"
     ]
    }
   ],
   "source": [
    "print('Количество пропусков столбца days_exposition - {}'.format(df['days_exposition'].isnull().sum()))\n",
    "\n",
    "df.loc[df['days_exposition'].isnull(), 'days_exposition'] = df['days_exposition'].median()\n",
    "print('Количество пропусков столбца days_exposition - {}'.format(df['days_exposition'].isnull().sum()))\n"
   ]
  },
  {
   "cell_type": "markdown",
   "metadata": {},
   "source": [
    "### Вывод\n",
    "На эти пропуски мы могли бы указать разработчикам портала недвижимости, ведь дата публикации есть у всех записей, и они явно могут определить, когда объявление было снято с публикации. Для восстановления пропусков у нас нет подходящего признака, поэтому заполним их медианой. "
   ]
  },
  {
   "cell_type": "markdown",
   "metadata": {},
   "source": [
    "## Расстояние до аэропорта или центра города"
   ]
  },
  {
   "cell_type": "code",
   "execution_count": 16,
   "metadata": {},
   "outputs": [
    {
     "name": "stdout",
     "output_type": "stream",
     "text": [
      "                         city_center_distance_m  nearest_airport_distance_m\n",
      "city_name                                                                  \n",
      "зеленогорск                             53381.0                     72282.0\n",
      "колпино                                 32018.0                     26232.0\n",
      "красное село                            29140.5                     25715.5\n",
      "кронштадт                               49575.0                     67850.0\n",
      "ломоносов                               51677.0                     48415.5\n",
      "павловск                                32683.0                     20529.5\n",
      "петергоф                                33771.0                     39231.0\n",
      "поселок александровская                 27468.0                     12896.5\n",
      "поселок белоостров                      38868.0                     57769.0\n",
      "поселок левашово                        25727.0                     52693.0\n",
      "поселок лисий нос                       28226.0                     55909.0\n",
      "поселок металлострой                    27602.0                     25758.0\n",
      "поселок молодежное                      65764.0                     84665.0\n",
      "поселок мурино                          21888.0                     51553.0\n",
      "поселок парголово                       19311.0                     53426.0\n",
      "поселок песочный                        26099.5                     54831.5\n",
      "поселок петро-славянка                  27165.0                     20605.0\n",
      "поселок понтонный                       32354.0                     30642.0\n",
      "поселок репино                          42896.5                     61797.5\n",
      "поселок саперный                        35859.5                     34147.5\n",
      "поселок стрельна                        23506.0                     28317.0\n",
      "поселок усть-ижора                      28222.5                     26510.5\n",
      "поселок шушары                          24212.0                     17427.0\n",
      "поселок щеглово                         34085.0                     61908.0\n",
      "пушкин                                  27930.5                     15766.0\n",
      "санкт-петербург                         12244.5                     26757.5\n",
      "сестрорецк                              34821.0                     56692.0\n",
      "['зеленогорск', 'колпино', 'красное село', 'кронштадт', 'ломоносов', 'павловск', 'петергоф', 'поселок александровская', 'поселок белоостров', 'поселок левашово', 'поселок лисий нос', 'поселок металлострой', 'поселок молодежное', 'поселок мурино', 'поселок парголово', 'поселок песочный', 'поселок петро-славянка', 'поселок понтонный', 'поселок репино', 'поселок саперный', 'поселок стрельна', 'поселок усть-ижора', 'поселок шушары', 'поселок щеглово', 'пушкин', 'санкт-петербург', 'сестрорецк']\n",
      "['городской поселок янино-1' 'сертолово' 'деревня кудрово' 'коммунар'\n",
      " 'поселок городского типа красный бор' 'гатчина' 'деревня федоровское'\n",
      " 'выборг' 'кировск' 'деревня новое девяткино'\n",
      " 'поселок городского типа лебяжье' 'поселок городского типа сиверский'\n",
      " 'поселок молодцово' 'поселок городского типа кузьмоловский'\n",
      " 'садовое товарищество новая ропша' 'деревня пикколово' 'всеволожск'\n",
      " 'волхов' 'кингисепп' 'приозерск' 'деревня куттузи' 'поселок аннино'\n",
      " 'поселок городского типа ефимовский' 'поселок плодовое'\n",
      " 'деревня заклинье' 'поселок торковичи' 'поселок первомайское' 'сясьстрой'\n",
      " 'деревня старая' 'деревня лесколово' 'поселок новый свет' 'сланцы'\n",
      " 'село путилово' 'ивангород' 'мурино' 'шлиссельбург' 'никольское'\n",
      " 'сосновый бор' 'деревня оржицы' 'деревня кальтино' 'кудрово'\n",
      " 'поселок романовка' 'поселок бугры' 'поселок городского типа рощино'\n",
      " 'кириши' 'луга' 'волосово' 'отрадное' 'село павлово' 'поселок оредеж'\n",
      " 'село копорье' 'тихвин' 'поселок победа' 'деревня нурма'\n",
      " 'поселок городского типа синявино' 'тосно' 'бокситогорск'\n",
      " 'деревня лопухинка' 'пикалево' 'поселок терволово'\n",
      " 'поселок городского типа советский' 'подпорожье' 'поселок петровское'\n",
      " 'поселок городского типа токсово' 'поселок сельцо'\n",
      " 'поселок городского типа вырица' 'деревня кипень' 'деревня келози'\n",
      " 'деревня вартемяги' 'поселок тельмана' 'поселок севастьяново'\n",
      " 'городской поселок большая ижора' 'городской поселок павлово'\n",
      " 'деревня агалатово' 'поселок новогорелово'\n",
      " 'городской поселок лесогорский' 'деревня лаголово' 'поселок цвелодубово'\n",
      " 'поселок городского типа рахья' 'деревня белогорка' 'поселок заводской'\n",
      " 'городской поселок новоселье' 'деревня большие колпаны'\n",
      " 'деревня горбунки' 'деревня батово' 'деревня заневка' 'деревня иссад'\n",
      " 'приморск' 'городской поселок федоровское' 'деревня мистолово'\n",
      " 'новая ладога' 'поселок зимитицы' 'поселок барышево'\n",
      " 'деревня разметелево' 'поселок городского типа имени свердлова'\n",
      " 'деревня пеники' 'поселок рябово' 'деревня пудомяги'\n",
      " 'поселок станции корнево' 'деревня низино' 'деревня бегуницы'\n",
      " 'поселок поляны' 'городской поселок мга' 'поселок елизаветино'\n",
      " 'поселок городского типа кузнечное' 'деревня колтуши'\n",
      " 'поселок запорожское' 'деревня гостилицы' 'деревня малое карлино'\n",
      " 'поселок мичуринское' 'поселок городского типа имени морозова'\n",
      " 'поселок сосново' 'деревня аро' 'поселок ильичево'\n",
      " 'поселок городского типа тайцы' 'деревня малое верево' 'деревня извара'\n",
      " 'поселок станции вещево' 'село паша' 'деревня калитино'\n",
      " 'поселок городского типа ульяновка' 'деревня чудской бор'\n",
      " 'поселок городского типа дубровка' 'деревня мины' 'поселок войсковицы'\n",
      " 'деревня коркино' 'поселок ропша' 'поселок городского типа приладожский'\n",
      " 'поселок гаврилово' 'лодейное поле' 'деревня рабитицы'\n",
      " 'поселок городского типа никольский' 'деревня кузьмолово'\n",
      " 'деревня малые колпаны' 'городской поселок назия' 'поселок углово'\n",
      " 'поселок старая малукса' 'садовое товарищество рахья' 'деревня меньково'\n",
      " 'деревня старые бегуницы' 'поселок семрино' 'поселок глажево'\n",
      " 'поселок кобринское' 'деревня гарболово' 'деревня юкки'\n",
      " 'поселок станции приветнинское' 'деревня мануйлово' 'деревня пчева'\n",
      " 'поселок цвылево' 'поселок мельниково' 'поселок пудость'\n",
      " 'поселок усть-луга' 'светогорск' 'любань' 'поселок селезнево'\n",
      " 'поселок городского типа рябово' 'каменногорск' 'деревня кривко'\n",
      " 'поселок глебычево' 'деревня парицы' 'поселок жилпоселок'\n",
      " 'поселок городского типа мга' 'поселок войскорово' 'село никольское'\n",
      " 'поселок стеклянный' 'поселок городского типа важины'\n",
      " 'поселок мыза-ивановка' 'село русско-высоцкое'\n",
      " 'поселок городского типа форносово' 'село старая ладога'\n",
      " 'поселок житково' 'городской поселок виллози' 'деревня лампово'\n",
      " 'деревня шпаньково' 'деревня лаврики' 'поселок сумино'\n",
      " 'поселок возрождение' 'деревня старосиверская' 'поселок кикерино'\n",
      " 'деревня старое хинколово' 'поселок пригородный' 'поселок торфяное'\n",
      " 'городской поселок будогощь' 'поселок суходолье' 'поселок красная долина'\n",
      " 'деревня хапо-ое' 'поселок городского типа дружная горка'\n",
      " 'деревня яльгелево' 'село рождествено' 'деревня старополье'\n",
      " 'деревня сяськелево' 'деревня камышовка'\n",
      " 'садоводческое некоммерческое товарищество лесная поляна'\n",
      " 'деревня хязельки' 'поселок жилгородок' 'поселок городского типа павлово'\n",
      " 'деревня ялгино' 'поселок новый учхоз' 'городской поселок рощино'\n",
      " 'поселок гончарово' 'поселок почап' 'поселок саперное'\n",
      " 'поселок платформа 69-й километр' 'поселок каложицы' 'деревня фалилеево'\n",
      " 'деревня пельгора' 'поселок городского типа лесогорский'\n",
      " 'деревня торошковичи' 'поселок алексеевка' 'поселок серебрянский'\n",
      " 'поселок лукаши' 'деревня щеглово' 'деревня тарасово'\n",
      " 'поселок кингисеппский' 'поселок при железнодорожной станции вещево'\n",
      " 'поселок ушаки' 'деревня котлы' 'деревня сижно' 'деревня торосово'\n",
      " 'поселок форт красная горка' 'деревня новолисино'\n",
      " 'поселок станции громово' 'деревня глинка'\n",
      " 'поселок городского типа назия' 'деревня старая пустошь'\n",
      " 'поселок коммунары' 'поселок починок'\n",
      " 'поселок городского типа вознесенье' 'деревня разбегаево'\n",
      " 'поселок гладкое' 'поселок при железнодорожной станции приветнинское'\n",
      " 'поселок тесово-4' 'деревня бор' 'поселок коробицыно'\n",
      " 'деревня большая вруда' 'деревня курковицы' 'городской поселок советский'\n",
      " 'поселок кобралово' 'деревня суоранда'\n",
      " 'поселок городского типа кондратьево' 'коттеджный поселок счастье'\n",
      " 'поселок любань' 'деревня реброво' 'деревня зимитицы' 'деревня тойворово'\n",
      " 'поселок семиозерье' 'поселок лесное' 'поселок совхозный'\n",
      " 'поселок ленинское' 'поселок суйда' 'деревня нижние осельки'\n",
      " 'поселок станции свирь' 'поселок перово' 'высоцк' 'поселок гарболово'\n",
      " 'село шум' 'поселок котельский' 'поселок станции лужайка'\n",
      " 'деревня большая пустомержа' 'поселок красносельское'\n",
      " 'деревня вахнова кара' 'деревня пижма'\n",
      " 'коттеджный поселок кивеннапа север' 'поселок ромашки' 'деревня каськово'\n",
      " 'деревня куровицы' 'поселок плоское'\n",
      " 'поселок городского типа большая ижора' 'поселок кирпичное'\n",
      " 'деревня ям-тесово' 'деревня раздолье' 'деревня терпилицы'\n",
      " 'поселок шугозеро' 'деревня ваганово' 'поселок пушное'\n",
      " 'садовое товарищество садко' 'деревня выскатка'\n",
      " 'городской поселок свирьстрой' 'поселок громово' 'деревня кисельня'\n",
      " 'деревня трубников бор' 'поселок калитино' 'поселок высокоключевой'\n",
      " 'садовое товарищество приладожский' 'поселок пансионат зеленый бор'\n",
      " 'деревня ненимяки' 'деревня снегиревка' 'деревня рапполово'\n",
      " 'деревня пустынка' 'поселок рабитицы' 'деревня большой сабск'\n",
      " 'деревня русско' 'деревня лупполово' 'деревня большое рейзино'\n",
      " 'деревня малая романовка' 'поселок дружноселье' 'поселок пчевжа'\n",
      " 'поселок володарское' 'деревня нижняя' 'коттеджный поселок лесное'\n",
      " 'деревня тихковицы' 'деревня борисова грива' 'поселок дзержинского']\n"
     ]
    }
   ],
   "source": [
    "median_df = df.pivot_table(\n",
    "    index='city_name',\n",
    "    values=['nearest_airport_distance_m', 'city_center_distance_m'],\n",
    "    aggfunc='median'\n",
    ")\n",
    "print(median_df)\n",
    "median_df_citys = list(median_df.index)\n",
    "print(median_df_citys)\n",
    "\n",
    "def fill_null_df(row, col):\n",
    "    city = row['city_name']\n",
    "    \n",
    "    if city in median_df_citys:\n",
    "        return median_df.loc[city][col]\n",
    "    \n",
    "    return row[col]\n",
    "\n",
    "columns = ['nearest_airport_distance_m', 'city_center_distance_m']\n",
    "\n",
    "for column in columns:\n",
    "    df.loc[df[column].isnull(), column] = df.apply(fill_null_df, axis=1, args=(column,))\n",
    "    \n",
    "    \n",
    "# Проверим данные по скольким населенные пунктам не удалось заполнить\n",
    "len(df[df['city_center_distance_m'].isnull()]['city_name'].unique())\n",
    "\n",
    "print(df[df['city_center_distance_m'].isnull()]['city_name'].unique())\n",
    "\n",
    "max_city_center_distance = max(df['city_center_distance_m'])\n",
    "max_airport_distance = max(df['nearest_airport_distance_m'])\n",
    "\n",
    "df['city_center_distance_m'] = df['city_center_distance_m'].fillna(max_city_center_distance)\n",
    "df['nearest_airport_distance_m'] = df['nearest_airport_distance_m'].fillna(max_airport_distance)"
   ]
  },
  {
   "cell_type": "markdown",
   "metadata": {},
   "source": [
    "### Вывод\n",
    "Часть пропусков признаков расстояние airports_nearest, cityCenters_nearest попробуем заполнить медианой по срезу данных по населенному пункту. Но как мы видим, для некоторых записей восстановить пропуски мы не сможем. В этих случаях, скорее всего, пропуски появляются в населенных пунктах, которые не являются городами или прилично удалены от административных центров. Либо же нет картографических данных для рассчета расстояний.\n",
    "\n",
    "Итог - 305\n",
    "\n",
    "Видно наглядно, что данные по которым не удалось заполнить данные - это деревни. Заменим эти данные на максимальные значения столбцов, так как вероятность отсуствия данных заключается в слишком большом расстоянии от дома."
   ]
  },
  {
   "cell_type": "markdown",
   "metadata": {},
   "source": [
    "## Высота потолков"
   ]
  },
  {
   "cell_type": "code",
   "execution_count": 17,
   "metadata": {},
   "outputs": [
    {
     "name": "stdout",
     "output_type": "stream",
     "text": [
      "count    14490.000000\n",
      "mean         2.771287\n",
      "std          1.261593\n",
      "min          1.000000\n",
      "25%          2.520000\n",
      "50%          2.650000\n",
      "75%          2.800000\n",
      "max        100.000000\n",
      "Name: ceiling_height_m2, dtype: float64\n"
     ]
    },
    {
     "data": {
      "image/png": "[encoded data removed]",
      "text/plain": [
       "<Figure size 432x288 with 1 Axes>"
      ]
     },
     "metadata": {
      "needs_background": "light"
     },
     "output_type": "display_data"
    }
   ],
   "source": [
    "print(df['ceiling_height_m2'].describe())\n",
    "plt.ylim(1, 3.5)\n",
    "df.boxplot('ceiling_height_m2')\n",
    "plt.show()\n",
    "\n",
    "df['ceiling_height_m2'] = df['ceiling_height_m2'].fillna(df['ceiling_height_m2'].median())"
   ]
  },
  {
   "cell_type": "markdown",
   "metadata": {},
   "source": [
    "### Вывод\n",
    "- Большая часть значений лежит в диапазоне до 2.8 м комнат, что выглядит правдаподобно.\n",
    "- Первый квартиль находится на уровне 2.5 м.\n",
    "- Нижний \"ус\" упирается в 2.2 м\n",
    "- Верхний ус заканчивается около 3.2 м.\n",
    "\n",
    "В среднем, параметр высоты потолков должен колебаться в пределах 2.4 - 3.2 м. Минимальная высота потолка определяется строительными нормами и правилами обычно как 2.5 м."
   ]
  },
  {
   "cell_type": "markdown",
   "metadata": {},
   "source": [
    "## Замена типа данных"
   ]
  },
  {
   "cell_type": "code",
   "execution_count": 18,
   "metadata": {},
   "outputs": [],
   "source": [
    "# Теперь поменяем типы столбцов\n",
    "df['first_day_exposition'] = pd.to_datetime(df['first_day_exposition'], format=\"%Y-%m-%dT%H:%M:%S\")\n",
    "\n",
    "# float63 -> int64\n",
    "for column in ['number_of_balconies', 'total_floors_in_house', 'days_exposition', 'nearest_pond_distance_m', \n",
    "               'nearest_park_distance_m', 'parks_numbers_within_3km', 'ponds_numbers_within_3km']:\n",
    "    df[column] = df[column].astype('int')\n",
    "\n",
    "df['is_apartment'] = df['is_apartment'].astype('bool')\n",
    "\n"
   ]
  },
  {
   "cell_type": "markdown",
   "metadata": {},
   "source": [
    "### Вывод\n",
    "Тип заменен на int в тех таблицах, которые в тип float выглядят не коректно. Не бывает 1.5 балконов или этажей\n",
    "\n",
    "Типы данных не были заменены у площадей, так как это сильно может повлиять на цену на 1$м^2$"
   ]
  },
  {
   "cell_type": "code",
   "execution_count": 19,
   "metadata": {},
   "outputs": [
    {
     "data": {
      "text/plain": [
       "total_images                  0.0\n",
       "ponds_numbers_within_3km      0.0\n",
       "nearest_park_distance_m       0.0\n",
       "parks_numbers_within_3km      0.0\n",
       "city_center_distance_m        0.0\n",
       "nearest_airport_distance_m    0.0\n",
       "city_name                     0.0\n",
       "number_of_balconies           0.0\n",
       "kitchen_area_m2               0.0\n",
       "is_open_plan                  0.0\n",
       "is_studio                     0.0\n",
       "is_apartment                  0.0\n",
       "floor                         0.0\n",
       "living_area_m2                0.0\n",
       "total_floors_in_house         0.0\n",
       "ceiling_height_m2             0.0\n",
       "number_of_rooms               0.0\n",
       "first_day_exposition          0.0\n",
       "total_area_m2                 0.0\n",
       "last_price                    0.0\n",
       "nearest_pond_distance_m       0.0\n",
       "days_exposition               0.0\n",
       "dtype: float64"
      ]
     },
     "execution_count": 19,
     "metadata": {},
     "output_type": "execute_result"
    }
   ],
   "source": [
    "df.isnull().sum().sort_values()/df.shape[0]*100"
   ]
  },
  {
   "cell_type": "markdown",
   "metadata": {},
   "source": [
    "### ВЫВОД\n",
    "от пропусков избавились"
   ]
  },
  {
   "cell_type": "markdown",
   "metadata": {},
   "source": [
    "### Шаг 3. Посчитайте и добавьте в таблицу"
   ]
  },
  {
   "cell_type": "markdown",
   "metadata": {},
   "source": [
    "### Цену квадратного метра"
   ]
  },
  {
   "cell_type": "code",
   "execution_count": 20,
   "metadata": {},
   "outputs": [],
   "source": [
    "df['price_m2'] = df['last_price'] / df['total_area_m2']"
   ]
  },
  {
   "cell_type": "markdown",
   "metadata": {},
   "source": [
    "### День недели, месяц и год публикации объявления"
   ]
  },
  {
   "cell_type": "code",
   "execution_count": 21,
   "metadata": {},
   "outputs": [],
   "source": [
    "df['singly_day_exposition'] = df['first_day_exposition'].dt.dayofweek\n",
    "df['singly_month_exposition'] = df['first_day_exposition'].dt.month\n",
    "df['singly_year_exposition'] = df['first_day_exposition'].dt.year"
   ]
  },
  {
   "cell_type": "code",
   "execution_count": 22,
   "metadata": {},
   "outputs": [
    {
     "data": {
      "text/html": [
       "<div>\n",
       "<style scoped>\n",
       "    .dataframe tbody tr th:only-of-type {\n",
       "        vertical-align: middle;\n",
       "    }\n",
       "\n",
       "    .dataframe tbody tr th {\n",
       "        vertical-align: top;\n",
       "    }\n",
       "\n",
       "    .dataframe thead th {\n",
       "        text-align: right;\n",
       "    }\n",
       "</style>\n",
       "<table border=\"1\" class=\"dataframe\">\n",
       "  <thead>\n",
       "    <tr style=\"text-align: right;\">\n",
       "      <th></th>\n",
       "      <th>total_images</th>\n",
       "      <th>last_price</th>\n",
       "      <th>total_area_m2</th>\n",
       "      <th>first_day_exposition</th>\n",
       "      <th>number_of_rooms</th>\n",
       "      <th>ceiling_height_m2</th>\n",
       "      <th>total_floors_in_house</th>\n",
       "      <th>living_area_m2</th>\n",
       "      <th>floor</th>\n",
       "      <th>is_apartment</th>\n",
       "      <th>...</th>\n",
       "      <th>city_center_distance_m</th>\n",
       "      <th>parks_numbers_within_3km</th>\n",
       "      <th>nearest_park_distance_m</th>\n",
       "      <th>ponds_numbers_within_3km</th>\n",
       "      <th>nearest_pond_distance_m</th>\n",
       "      <th>days_exposition</th>\n",
       "      <th>price_m2</th>\n",
       "      <th>singly_day_exposition</th>\n",
       "      <th>singly_month_exposition</th>\n",
       "      <th>singly_year_exposition</th>\n",
       "    </tr>\n",
       "  </thead>\n",
       "  <tbody>\n",
       "    <tr>\n",
       "      <td>0</td>\n",
       "      <td>20</td>\n",
       "      <td>13000000.0</td>\n",
       "      <td>108.0</td>\n",
       "      <td>2019-03-07</td>\n",
       "      <td>3</td>\n",
       "      <td>2.70</td>\n",
       "      <td>16</td>\n",
       "      <td>83.0</td>\n",
       "      <td>8</td>\n",
       "      <td>False</td>\n",
       "      <td>...</td>\n",
       "      <td>16028.0</td>\n",
       "      <td>1</td>\n",
       "      <td>482</td>\n",
       "      <td>2</td>\n",
       "      <td>755</td>\n",
       "      <td>95</td>\n",
       "      <td>120370.370370</td>\n",
       "      <td>3</td>\n",
       "      <td>3</td>\n",
       "      <td>2019</td>\n",
       "    </tr>\n",
       "    <tr>\n",
       "      <td>1</td>\n",
       "      <td>7</td>\n",
       "      <td>3350000.0</td>\n",
       "      <td>40.4</td>\n",
       "      <td>2018-12-04</td>\n",
       "      <td>1</td>\n",
       "      <td>2.65</td>\n",
       "      <td>11</td>\n",
       "      <td>29.4</td>\n",
       "      <td>1</td>\n",
       "      <td>False</td>\n",
       "      <td>...</td>\n",
       "      <td>18603.0</td>\n",
       "      <td>0</td>\n",
       "      <td>0</td>\n",
       "      <td>0</td>\n",
       "      <td>0</td>\n",
       "      <td>81</td>\n",
       "      <td>82920.792079</td>\n",
       "      <td>1</td>\n",
       "      <td>12</td>\n",
       "      <td>2018</td>\n",
       "    </tr>\n",
       "    <tr>\n",
       "      <td>2</td>\n",
       "      <td>10</td>\n",
       "      <td>5196000.0</td>\n",
       "      <td>56.0</td>\n",
       "      <td>2015-08-20</td>\n",
       "      <td>2</td>\n",
       "      <td>2.65</td>\n",
       "      <td>5</td>\n",
       "      <td>47.7</td>\n",
       "      <td>4</td>\n",
       "      <td>False</td>\n",
       "      <td>...</td>\n",
       "      <td>13933.0</td>\n",
       "      <td>1</td>\n",
       "      <td>90</td>\n",
       "      <td>2</td>\n",
       "      <td>574</td>\n",
       "      <td>558</td>\n",
       "      <td>92785.714286</td>\n",
       "      <td>3</td>\n",
       "      <td>8</td>\n",
       "      <td>2015</td>\n",
       "    </tr>\n",
       "    <tr>\n",
       "      <td>3</td>\n",
       "      <td>0</td>\n",
       "      <td>64900000.0</td>\n",
       "      <td>159.0</td>\n",
       "      <td>2015-07-24</td>\n",
       "      <td>3</td>\n",
       "      <td>2.65</td>\n",
       "      <td>14</td>\n",
       "      <td>42.9</td>\n",
       "      <td>9</td>\n",
       "      <td>False</td>\n",
       "      <td>...</td>\n",
       "      <td>6800.0</td>\n",
       "      <td>2</td>\n",
       "      <td>84</td>\n",
       "      <td>3</td>\n",
       "      <td>234</td>\n",
       "      <td>424</td>\n",
       "      <td>408176.100629</td>\n",
       "      <td>4</td>\n",
       "      <td>7</td>\n",
       "      <td>2015</td>\n",
       "    </tr>\n",
       "    <tr>\n",
       "      <td>4</td>\n",
       "      <td>2</td>\n",
       "      <td>10000000.0</td>\n",
       "      <td>100.0</td>\n",
       "      <td>2018-06-19</td>\n",
       "      <td>2</td>\n",
       "      <td>3.03</td>\n",
       "      <td>14</td>\n",
       "      <td>59.0</td>\n",
       "      <td>13</td>\n",
       "      <td>False</td>\n",
       "      <td>...</td>\n",
       "      <td>8098.0</td>\n",
       "      <td>2</td>\n",
       "      <td>112</td>\n",
       "      <td>1</td>\n",
       "      <td>48</td>\n",
       "      <td>121</td>\n",
       "      <td>100000.000000</td>\n",
       "      <td>1</td>\n",
       "      <td>6</td>\n",
       "      <td>2018</td>\n",
       "    </tr>\n",
       "  </tbody>\n",
       "</table>\n",
       "<p>5 rows × 26 columns</p>\n",
       "</div>"
      ],
      "text/plain": [
       "   total_images  last_price  total_area_m2 first_day_exposition  \\\n",
       "0            20  13000000.0          108.0           2019-03-07   \n",
       "1             7   3350000.0           40.4           2018-12-04   \n",
       "2            10   5196000.0           56.0           2015-08-20   \n",
       "3             0  64900000.0          159.0           2015-07-24   \n",
       "4             2  10000000.0          100.0           2018-06-19   \n",
       "\n",
       "   number_of_rooms  ceiling_height_m2  total_floors_in_house  living_area_m2  \\\n",
       "0                3               2.70                     16            83.0   \n",
       "1                1               2.65                     11            29.4   \n",
       "2                2               2.65                      5            47.7   \n",
       "3                3               2.65                     14            42.9   \n",
       "4                2               3.03                     14            59.0   \n",
       "\n",
       "   floor  is_apartment  ...  city_center_distance_m  parks_numbers_within_3km  \\\n",
       "0      8         False  ...                 16028.0                         1   \n",
       "1      1         False  ...                 18603.0                         0   \n",
       "2      4         False  ...                 13933.0                         1   \n",
       "3      9         False  ...                  6800.0                         2   \n",
       "4     13         False  ...                  8098.0                         2   \n",
       "\n",
       "   nearest_park_distance_m  ponds_numbers_within_3km nearest_pond_distance_m  \\\n",
       "0                      482                         2                     755   \n",
       "1                        0                         0                       0   \n",
       "2                       90                         2                     574   \n",
       "3                       84                         3                     234   \n",
       "4                      112                         1                      48   \n",
       "\n",
       "   days_exposition       price_m2  singly_day_exposition  \\\n",
       "0               95  120370.370370                      3   \n",
       "1               81   82920.792079                      1   \n",
       "2              558   92785.714286                      3   \n",
       "3              424  408176.100629                      4   \n",
       "4              121  100000.000000                      1   \n",
       "\n",
       "   singly_month_exposition  singly_year_exposition  \n",
       "0                        3                    2019  \n",
       "1                       12                    2018  \n",
       "2                        8                    2015  \n",
       "3                        7                    2015  \n",
       "4                        6                    2018  \n",
       "\n",
       "[5 rows x 26 columns]"
      ]
     },
     "execution_count": 22,
     "metadata": {},
     "output_type": "execute_result"
    }
   ],
   "source": [
    "df.head(5)"
   ]
  },
  {
   "cell_type": "markdown",
   "metadata": {},
   "source": [
    "### Этаж квартиры"
   ]
  },
  {
   "cell_type": "code",
   "execution_count": 23,
   "metadata": {},
   "outputs": [],
   "source": [
    "def categorize_floor_in_house(row):\n",
    "    \"\"\"Категоризация этажей\"\"\"\n",
    "\n",
    "    if row['floor'] == 1:\n",
    "        return 'первый'\n",
    "    elif row['floor'] == row['total_floors_in_house']:\n",
    "        return 'последний'\n",
    "    else:\n",
    "        return 'другой'\n",
    "    \n",
    "    \n",
    "df.loc[:, 'floor'] = df.apply(categorize_floor_in_house, axis=1)\n"
   ]
  },
  {
   "cell_type": "code",
   "execution_count": 24,
   "metadata": {},
   "outputs": [
    {
     "data": {
      "text/plain": [
       "другой       17408\n",
       "последний     3330\n",
       "первый        2912\n",
       "Name: floor, dtype: int64"
      ]
     },
     "execution_count": 24,
     "metadata": {},
     "output_type": "execute_result"
    }
   ],
   "source": [
    "df['floor'].value_counts()"
   ]
  },
  {
   "cell_type": "markdown",
   "metadata": {},
   "source": [
    "### Cоотношение жилой и общей площади, а также отношение площади кухни к общей"
   ]
  },
  {
   "cell_type": "code",
   "execution_count": 25,
   "metadata": {},
   "outputs": [],
   "source": [
    "df['kitchen_total_areas_ration'] = df['kitchen_area_m2'] / df['total_area_m2']\n",
    "df['living_total_areas_ration'] = df['living_area_m2'] / df['total_area_m2']"
   ]
  },
  {
   "cell_type": "code",
   "execution_count": 26,
   "metadata": {},
   "outputs": [
    {
     "data": {
      "text/html": [
       "<div>\n",
       "<style scoped>\n",
       "    .dataframe tbody tr th:only-of-type {\n",
       "        vertical-align: middle;\n",
       "    }\n",
       "\n",
       "    .dataframe tbody tr th {\n",
       "        vertical-align: top;\n",
       "    }\n",
       "\n",
       "    .dataframe thead th {\n",
       "        text-align: right;\n",
       "    }\n",
       "</style>\n",
       "<table border=\"1\" class=\"dataframe\">\n",
       "  <thead>\n",
       "    <tr style=\"text-align: right;\">\n",
       "      <th></th>\n",
       "      <th>total_images</th>\n",
       "      <th>last_price</th>\n",
       "      <th>total_area_m2</th>\n",
       "      <th>first_day_exposition</th>\n",
       "      <th>number_of_rooms</th>\n",
       "      <th>ceiling_height_m2</th>\n",
       "      <th>total_floors_in_house</th>\n",
       "      <th>living_area_m2</th>\n",
       "      <th>floor</th>\n",
       "      <th>is_apartment</th>\n",
       "      <th>...</th>\n",
       "      <th>nearest_park_distance_m</th>\n",
       "      <th>ponds_numbers_within_3km</th>\n",
       "      <th>nearest_pond_distance_m</th>\n",
       "      <th>days_exposition</th>\n",
       "      <th>price_m2</th>\n",
       "      <th>singly_day_exposition</th>\n",
       "      <th>singly_month_exposition</th>\n",
       "      <th>singly_year_exposition</th>\n",
       "      <th>kitchen_total_areas_ration</th>\n",
       "      <th>living_total_areas_ration</th>\n",
       "    </tr>\n",
       "  </thead>\n",
       "  <tbody>\n",
       "    <tr>\n",
       "      <td>0</td>\n",
       "      <td>20</td>\n",
       "      <td>13000000.0</td>\n",
       "      <td>108.0</td>\n",
       "      <td>2019-03-07</td>\n",
       "      <td>3</td>\n",
       "      <td>2.70</td>\n",
       "      <td>16</td>\n",
       "      <td>83.0</td>\n",
       "      <td>другой</td>\n",
       "      <td>False</td>\n",
       "      <td>...</td>\n",
       "      <td>482</td>\n",
       "      <td>2</td>\n",
       "      <td>755</td>\n",
       "      <td>95</td>\n",
       "      <td>120370.370370</td>\n",
       "      <td>3</td>\n",
       "      <td>3</td>\n",
       "      <td>2019</td>\n",
       "      <td>0.231481</td>\n",
       "      <td>0.768519</td>\n",
       "    </tr>\n",
       "    <tr>\n",
       "      <td>1</td>\n",
       "      <td>7</td>\n",
       "      <td>3350000.0</td>\n",
       "      <td>40.4</td>\n",
       "      <td>2018-12-04</td>\n",
       "      <td>1</td>\n",
       "      <td>2.65</td>\n",
       "      <td>11</td>\n",
       "      <td>29.4</td>\n",
       "      <td>первый</td>\n",
       "      <td>False</td>\n",
       "      <td>...</td>\n",
       "      <td>0</td>\n",
       "      <td>0</td>\n",
       "      <td>0</td>\n",
       "      <td>81</td>\n",
       "      <td>82920.792079</td>\n",
       "      <td>1</td>\n",
       "      <td>12</td>\n",
       "      <td>2018</td>\n",
       "      <td>0.272277</td>\n",
       "      <td>0.727723</td>\n",
       "    </tr>\n",
       "    <tr>\n",
       "      <td>2</td>\n",
       "      <td>10</td>\n",
       "      <td>5196000.0</td>\n",
       "      <td>56.0</td>\n",
       "      <td>2015-08-20</td>\n",
       "      <td>2</td>\n",
       "      <td>2.65</td>\n",
       "      <td>5</td>\n",
       "      <td>47.7</td>\n",
       "      <td>другой</td>\n",
       "      <td>False</td>\n",
       "      <td>...</td>\n",
       "      <td>90</td>\n",
       "      <td>2</td>\n",
       "      <td>574</td>\n",
       "      <td>558</td>\n",
       "      <td>92785.714286</td>\n",
       "      <td>3</td>\n",
       "      <td>8</td>\n",
       "      <td>2015</td>\n",
       "      <td>0.148214</td>\n",
       "      <td>0.851786</td>\n",
       "    </tr>\n",
       "    <tr>\n",
       "      <td>3</td>\n",
       "      <td>0</td>\n",
       "      <td>64900000.0</td>\n",
       "      <td>159.0</td>\n",
       "      <td>2015-07-24</td>\n",
       "      <td>3</td>\n",
       "      <td>2.65</td>\n",
       "      <td>14</td>\n",
       "      <td>42.9</td>\n",
       "      <td>другой</td>\n",
       "      <td>False</td>\n",
       "      <td>...</td>\n",
       "      <td>84</td>\n",
       "      <td>3</td>\n",
       "      <td>234</td>\n",
       "      <td>424</td>\n",
       "      <td>408176.100629</td>\n",
       "      <td>4</td>\n",
       "      <td>7</td>\n",
       "      <td>2015</td>\n",
       "      <td>0.058491</td>\n",
       "      <td>0.269811</td>\n",
       "    </tr>\n",
       "    <tr>\n",
       "      <td>4</td>\n",
       "      <td>2</td>\n",
       "      <td>10000000.0</td>\n",
       "      <td>100.0</td>\n",
       "      <td>2018-06-19</td>\n",
       "      <td>2</td>\n",
       "      <td>3.03</td>\n",
       "      <td>14</td>\n",
       "      <td>59.0</td>\n",
       "      <td>другой</td>\n",
       "      <td>False</td>\n",
       "      <td>...</td>\n",
       "      <td>112</td>\n",
       "      <td>1</td>\n",
       "      <td>48</td>\n",
       "      <td>121</td>\n",
       "      <td>100000.000000</td>\n",
       "      <td>1</td>\n",
       "      <td>6</td>\n",
       "      <td>2018</td>\n",
       "      <td>0.410000</td>\n",
       "      <td>0.590000</td>\n",
       "    </tr>\n",
       "  </tbody>\n",
       "</table>\n",
       "<p>5 rows × 28 columns</p>\n",
       "</div>"
      ],
      "text/plain": [
       "   total_images  last_price  total_area_m2 first_day_exposition  \\\n",
       "0            20  13000000.0          108.0           2019-03-07   \n",
       "1             7   3350000.0           40.4           2018-12-04   \n",
       "2            10   5196000.0           56.0           2015-08-20   \n",
       "3             0  64900000.0          159.0           2015-07-24   \n",
       "4             2  10000000.0          100.0           2018-06-19   \n",
       "\n",
       "   number_of_rooms  ceiling_height_m2  total_floors_in_house  living_area_m2  \\\n",
       "0                3               2.70                     16            83.0   \n",
       "1                1               2.65                     11            29.4   \n",
       "2                2               2.65                      5            47.7   \n",
       "3                3               2.65                     14            42.9   \n",
       "4                2               3.03                     14            59.0   \n",
       "\n",
       "    floor  is_apartment  ...  nearest_park_distance_m  \\\n",
       "0  другой         False  ...                      482   \n",
       "1  первый         False  ...                        0   \n",
       "2  другой         False  ...                       90   \n",
       "3  другой         False  ...                       84   \n",
       "4  другой         False  ...                      112   \n",
       "\n",
       "   ponds_numbers_within_3km  nearest_pond_distance_m  days_exposition  \\\n",
       "0                         2                      755               95   \n",
       "1                         0                        0               81   \n",
       "2                         2                      574              558   \n",
       "3                         3                      234              424   \n",
       "4                         1                       48              121   \n",
       "\n",
       "        price_m2  singly_day_exposition  singly_month_exposition  \\\n",
       "0  120370.370370                      3                        3   \n",
       "1   82920.792079                      1                       12   \n",
       "2   92785.714286                      3                        8   \n",
       "3  408176.100629                      4                        7   \n",
       "4  100000.000000                      1                        6   \n",
       "\n",
       "   singly_year_exposition  kitchen_total_areas_ration  \\\n",
       "0                    2019                    0.231481   \n",
       "1                    2018                    0.272277   \n",
       "2                    2015                    0.148214   \n",
       "3                    2015                    0.058491   \n",
       "4                    2018                    0.410000   \n",
       "\n",
       "   living_total_areas_ration  \n",
       "0                   0.768519  \n",
       "1                   0.727723  \n",
       "2                   0.851786  \n",
       "3                   0.269811  \n",
       "4                   0.590000  \n",
       "\n",
       "[5 rows x 28 columns]"
      ]
     },
     "execution_count": 26,
     "metadata": {},
     "output_type": "execute_result"
    }
   ],
   "source": [
    "df.head()"
   ]
  },
  {
   "cell_type": "markdown",
   "metadata": {},
   "source": [
    "### Шаг 4. Проведите исследовательский анализ данных и выполните инструкции:"
   ]
  },
  {
   "cell_type": "markdown",
   "metadata": {},
   "source": [
    "### Площадь"
   ]
  },
  {
   "cell_type": "code",
   "execution_count": 27,
   "metadata": {},
   "outputs": [
    {
     "data": {
      "text/plain": [
       "count    23650.000000\n",
       "mean        60.329069\n",
       "std         35.661808\n",
       "min         12.000000\n",
       "25%         40.000000\n",
       "50%         52.000000\n",
       "75%         69.700000\n",
       "max        900.000000\n",
       "Name: total_area_m2, dtype: float64"
      ]
     },
     "execution_count": 27,
     "metadata": {},
     "output_type": "execute_result"
    }
   ],
   "source": [
    "df['total_area_m2'].describe()"
   ]
  },
  {
   "cell_type": "code",
   "execution_count": 28,
   "metadata": {},
   "outputs": [
    {
     "data": {
      "image/png": "[encoded data removed]",
      "text/plain": [
       "<Figure size 432x288 with 1 Axes>"
      ]
     },
     "metadata": {
      "needs_background": "light"
     },
     "output_type": "display_data"
    }
   ],
   "source": [
    "plt.ylim(0, 200)\n",
    "df.boxplot('total_area_m2')\n",
    "plt.show()"
   ]
  },
  {
   "cell_type": "markdown",
   "metadata": {},
   "source": [
    "- 75% значений лежит в диапазоне до 70 кв.м., что выглядит правдаподобно.\n",
    "- Первый квартиль находится на уровне 40 кв.м.\n",
    "- Нижний \"ус\" упирается в 12, минимальное значение. Да, на самом деле есть квартиры 12 кв.м.\n",
    "- Верхний ус заканчивается около 115 кв.м.\n",
    "\n",
    "Все, что лежит за ориентировочной границей нормального размаха, считаем выбросом.\n",
    "Таким образом, нам нужен будет следующией диапазон значений: 12 – 115 кв.м."
   ]
  },
  {
   "cell_type": "code",
   "execution_count": 29,
   "metadata": {},
   "outputs": [
    {
     "data": {
      "image/png": "[encoded data removed]",
      "text/plain": [
       "<Figure size 432x288 with 1 Axes>"
      ]
     },
     "metadata": {
      "needs_background": "light"
     },
     "output_type": "display_data"
    },
    {
     "data": {
      "image/png": "[encoded data removed]",
      "text/plain": [
       "<Figure size 432x288 with 1 Axes>"
      ]
     },
     "metadata": {
      "needs_background": "light"
     },
     "output_type": "display_data"
    }
   ],
   "source": [
    "# Данные с выбросами\n",
    "df['total_area_m2'].hist(bins=100)\n",
    "plt.show()\n",
    "# Данные без выбросов и ошибок\n",
    "good_total_area_m2 = df.query('total_area_m2 >= 12 and total_area_m2 <= 115')['total_area_m2']\n",
    "good_total_area_m2.hist()\n",
    "plt.show()"
   ]
  },
  {
   "cell_type": "markdown",
   "metadata": {},
   "source": [
    "### Цена"
   ]
  },
  {
   "cell_type": "code",
   "execution_count": 30,
   "metadata": {},
   "outputs": [
    {
     "data": {
      "text/plain": [
       "count    2.365000e+04\n",
       "mean     6.541127e+06\n",
       "std      1.089640e+07\n",
       "min      1.219000e+04\n",
       "25%      3.400000e+06\n",
       "50%      4.650000e+06\n",
       "75%      6.799000e+06\n",
       "max      7.630000e+08\n",
       "Name: last_price, dtype: float64"
      ]
     },
     "execution_count": 30,
     "metadata": {},
     "output_type": "execute_result"
    }
   ],
   "source": [
    "df['last_price'].describe()"
   ]
  },
  {
   "cell_type": "code",
   "execution_count": 31,
   "metadata": {},
   "outputs": [
    {
     "data": {
      "image/png": "[encoded data removed]",
      "text/plain": [
       "<Figure size 432x288 with 1 Axes>"
      ]
     },
     "metadata": {
      "needs_background": "light"
     },
     "output_type": "display_data"
    }
   ],
   "source": [
    "plt.ylim(-1e+06, 1.4e+07)\n",
    "df.boxplot('last_price')\n",
    "plt.show()"
   ]
  },
  {
   "cell_type": "markdown",
   "metadata": {},
   "source": [
    "- 75% значений лежит в диапазоне до 7 млн., что выглядит правдаподобно.\n",
    "- Первый квартиль на уровне 3.4 млн.\n",
    "- Нижний \"ус\" упирается в 0, а минимальная цена равна 12 190, в то время как средняя стоимость недвижимости – 6.5 млн.\n",
    "Это выглядит подозрительным. Взглянем на подобные записи."
   ]
  },
  {
   "cell_type": "code",
   "execution_count": 32,
   "metadata": {},
   "outputs": [
    {
     "data": {
      "text/html": [
       "<div>\n",
       "<style scoped>\n",
       "    .dataframe tbody tr th:only-of-type {\n",
       "        vertical-align: middle;\n",
       "    }\n",
       "\n",
       "    .dataframe tbody tr th {\n",
       "        vertical-align: top;\n",
       "    }\n",
       "\n",
       "    .dataframe thead th {\n",
       "        text-align: right;\n",
       "    }\n",
       "</style>\n",
       "<table border=\"1\" class=\"dataframe\">\n",
       "  <thead>\n",
       "    <tr style=\"text-align: right;\">\n",
       "      <th></th>\n",
       "      <th>city_name</th>\n",
       "      <th>last_price</th>\n",
       "      <th>total_area_m2</th>\n",
       "    </tr>\n",
       "  </thead>\n",
       "  <tbody>\n",
       "    <tr>\n",
       "      <td>8793</td>\n",
       "      <td>санкт-петербург</td>\n",
       "      <td>12190.0</td>\n",
       "      <td>109.0</td>\n",
       "    </tr>\n",
       "    <tr>\n",
       "      <td>14911</td>\n",
       "      <td>поселок станции свирь</td>\n",
       "      <td>430000.0</td>\n",
       "      <td>54.0</td>\n",
       "    </tr>\n",
       "    <tr>\n",
       "      <td>17456</td>\n",
       "      <td>сланцы</td>\n",
       "      <td>430000.0</td>\n",
       "      <td>30.4</td>\n",
       "    </tr>\n",
       "    <tr>\n",
       "      <td>16274</td>\n",
       "      <td>деревня старополье</td>\n",
       "      <td>440000.0</td>\n",
       "      <td>40.0</td>\n",
       "    </tr>\n",
       "  </tbody>\n",
       "</table>\n",
       "</div>"
      ],
      "text/plain": [
       "                   city_name  last_price  total_area_m2\n",
       "8793         санкт-петербург     12190.0          109.0\n",
       "14911  поселок станции свирь    430000.0           54.0\n",
       "17456                 сланцы    430000.0           30.4\n",
       "16274     деревня старополье    440000.0           40.0"
      ]
     },
     "execution_count": 32,
     "metadata": {},
     "output_type": "execute_result"
    }
   ],
   "source": [
    "bad_df = df.query('last_price < 4.5e+5')\n",
    "bad_df.sort_values('last_price').head()[['city_name', 'last_price', 'total_area_m2']]"
   ]
  },
  {
   "cell_type": "markdown",
   "metadata": {},
   "source": [
    "В Санкт-Петербурге квартира площадью 109 кв.м. с ценой ->  12 190 руб. \n",
    "Это явная ошибка в данных\n",
    "\n",
    "Возьмем нижнюю границу для данных без выбросов в 430 тыс. Такая стоимость для деревень выглядит правдоподобно.\n",
    "\n",
    "На диаграмме boxplot видно, что верхний \"ус\" заканчивается на стоимости 12 000 000. Данные выше этого значения считаются выбросами. Хотя в крупных города, есть много очень дорогой недвижимости, запредельная стоимость которой, является правдоподобной."
   ]
  },
  {
   "cell_type": "code",
   "execution_count": 33,
   "metadata": {},
   "outputs": [
    {
     "data": {
      "image/png": "[encoded data removed]",
      "text/plain": [
       "<Figure size 432x288 with 1 Axes>"
      ]
     },
     "metadata": {
      "needs_background": "light"
     },
     "output_type": "display_data"
    },
    {
     "data": {
      "image/png": "[encoded data removed]",
      "text/plain": [
       "<Figure size 432x288 with 1 Axes>"
      ]
     },
     "metadata": {
      "needs_background": "light"
     },
     "output_type": "display_data"
    }
   ],
   "source": [
    "# Данные с выбросами\n",
    "df['last_price'].hist(bins=100)\n",
    "plt.show()\n",
    "# Данные без выбросов и ошибок\n",
    "good_last_price = df.query('last_price >= 4.3e+5 and last_price <= 1.2e+7')['last_price']\n",
    "good_last_price.hist()\n",
    "plt.show()"
   ]
  },
  {
   "cell_type": "markdown",
   "metadata": {},
   "source": [
    "### Число комнат"
   ]
  },
  {
   "cell_type": "code",
   "execution_count": 34,
   "metadata": {},
   "outputs": [
    {
     "data": {
      "text/plain": [
       "count    23650.000000\n",
       "mean         2.070106\n",
       "std          1.078620\n",
       "min          0.000000\n",
       "25%          1.000000\n",
       "50%          2.000000\n",
       "75%          3.000000\n",
       "max         19.000000\n",
       "Name: number_of_rooms, dtype: float64"
      ]
     },
     "execution_count": 34,
     "metadata": {},
     "output_type": "execute_result"
    }
   ],
   "source": [
    "df['number_of_rooms'].describe()"
   ]
  },
  {
   "cell_type": "code",
   "execution_count": 35,
   "metadata": {},
   "outputs": [
    {
     "data": {
      "image/png": "[encoded data removed]",
      "text/plain": [
       "<Figure size 432x288 with 1 Axes>"
      ]
     },
     "metadata": {
      "needs_background": "light"
     },
     "output_type": "display_data"
    }
   ],
   "source": [
    "plt.ylim(-1, 10)\n",
    "df.boxplot('number_of_rooms')\n",
    "plt.show()"
   ]
  },
  {
   "cell_type": "markdown",
   "metadata": {},
   "source": [
    "- 75% значений лежит в диапазоне до 3х комнат, что выглядит правдаподобно.\n",
    "- Первый квартиль находится на уровне 1 комнаты.\n",
    "- Нижний \"ус\" упирается в 0, минимальное значение - это можно считать за ошибку в данных.\n",
    "- Верхний ус заканчивается около 6.\n",
    "- Выбросы лежат за ориентировочной границей нормального распределения."
   ]
  },
  {
   "cell_type": "code",
   "execution_count": 36,
   "metadata": {},
   "outputs": [
    {
     "data": {
      "image/png": "[encoded data removed]",
      "text/plain": [
       "<Figure size 432x288 with 1 Axes>"
      ]
     },
     "metadata": {
      "needs_background": "light"
     },
     "output_type": "display_data"
    },
    {
     "data": {
      "image/png": "[encoded data removed]",
      "text/plain": [
       "<Figure size 432x288 with 1 Axes>"
      ]
     },
     "metadata": {
      "needs_background": "light"
     },
     "output_type": "display_data"
    }
   ],
   "source": [
    "# Данные с выбросами\n",
    "df['number_of_rooms'].hist(bins=50)\n",
    "plt.show()\n",
    "# Данные без выбросов и ошибок\n",
    "good_number_of_rooms = df.query('number_of_rooms >= 1 and number_of_rooms <= 6')['number_of_rooms']\n",
    "good_number_of_rooms.hist()\n",
    "plt.show()"
   ]
  },
  {
   "cell_type": "markdown",
   "metadata": {},
   "source": [
    "Самые распространенные квартиры это 1-3 комнатные"
   ]
  },
  {
   "cell_type": "markdown",
   "metadata": {},
   "source": [
    "### Высота потолков"
   ]
  },
  {
   "cell_type": "code",
   "execution_count": 37,
   "metadata": {},
   "outputs": [
    {
     "data": {
      "text/plain": [
       "count    23650.000000\n",
       "mean         2.724311\n",
       "std          0.989255\n",
       "min          1.000000\n",
       "25%          2.600000\n",
       "50%          2.650000\n",
       "75%          2.700000\n",
       "max        100.000000\n",
       "Name: ceiling_height_m2, dtype: float64"
      ]
     },
     "execution_count": 37,
     "metadata": {},
     "output_type": "execute_result"
    }
   ],
   "source": [
    "df['ceiling_height_m2'].describe()"
   ]
  },
  {
   "cell_type": "code",
   "execution_count": 38,
   "metadata": {},
   "outputs": [
    {
     "data": {
      "image/png": "[encoded data removed]",
      "text/plain": [
       "<Figure size 432x288 with 1 Axes>"
      ]
     },
     "metadata": {
      "needs_background": "light"
     },
     "output_type": "display_data"
    }
   ],
   "source": [
    "plt.ylim(1, 3.5)\n",
    "df.boxplot('ceiling_height_m2')\n",
    "plt.show()"
   ]
  },
  {
   "cell_type": "markdown",
   "metadata": {},
   "source": [
    "По данной таблицы анализ был проведен по заполненым пропускам. Данные касательно заполнения пропусков слегка изменили график boxplot, но не полвияли на то что в среднем, параметр высоты потолков 2.4 - 3.2 м. Минимальная высота потолка определяется строительными нормами и правилами обычно как 2.5 м."
   ]
  },
  {
   "cell_type": "code",
   "execution_count": 39,
   "metadata": {},
   "outputs": [
    {
     "data": {
      "image/png": "[encoded data removed]",
      "text/plain": [
       "<Figure size 432x288 with 1 Axes>"
      ]
     },
     "metadata": {
      "needs_background": "light"
     },
     "output_type": "display_data"
    },
    {
     "data": {
      "image/png": "[encoded data removed]",
      "text/plain": [
       "<Figure size 432x288 with 1 Axes>"
      ]
     },
     "metadata": {
      "needs_background": "light"
     },
     "output_type": "display_data"
    }
   ],
   "source": [
    "# Данные с выбросами\n",
    "df['ceiling_height_m2'].hist(bins=50)\n",
    "plt.show()\n",
    "# Данные без выбросов и ошибок\n",
    "good_ceiling_height_m2 = df.query('ceiling_height_m2 >= 2.4 and ceiling_height_m2 <= 3.2')['ceiling_height_m2']\n",
    "good_ceiling_height_m2.hist(bins=50)\n",
    "plt.show()"
   ]
  },
  {
   "cell_type": "markdown",
   "metadata": {},
   "source": [
    "### Время продажи"
   ]
  },
  {
   "cell_type": "code",
   "execution_count": 40,
   "metadata": {},
   "outputs": [
    {
     "data": {
      "text/plain": [
       "count    23650.000000\n",
       "mean       169.222748\n",
       "std        206.550577\n",
       "min          1.000000\n",
       "25%         45.000000\n",
       "50%         95.000000\n",
       "75%        198.000000\n",
       "max       1580.000000\n",
       "Name: days_exposition, dtype: float64"
      ]
     },
     "execution_count": 40,
     "metadata": {},
     "output_type": "execute_result"
    }
   ],
   "source": [
    "df['days_exposition'].describe()"
   ]
  },
  {
   "cell_type": "code",
   "execution_count": 41,
   "metadata": {},
   "outputs": [
    {
     "data": {
      "image/png": "[encoded data removed]",
      "text/plain": [
       "<Figure size 432x288 with 1 Axes>"
      ]
     },
     "metadata": {
      "needs_background": "light"
     },
     "output_type": "display_data"
    }
   ],
   "source": [
    "plt.ylim(-10, 500)\n",
    "df.boxplot('days_exposition')\n",
    "plt.show()"
   ]
  },
  {
   "cell_type": "markdown",
   "metadata": {},
   "source": [
    "\n",
    "- 75% значений лежит в диапазоне до 198 дней, что выглядит правдоподобно. Квартиру быстро не продашь\n",
    "- Првый квартиль лежит на уровне 45 дней.\n",
    "- Нижний \"ус\" упирается в 1, минимальное значение.\n",
    "- Верхний заканчивается в около 420 дней.\n",
    "\n",
    "Из этого следует:\n",
    "- продажа обычно занимает 95 дней;\n",
    "- если объект продан в течение 50 дней – это быстро\n",
    "- также есть вероятность, что собственник передумал продавать квартиру и снял объявление с публикации. Стоит ли отсекать такие значения? Будем рассматривать временной промежуток от недели.\n",
    "- если в диапазоне от 200 дней – очень долго."
   ]
  },
  {
   "cell_type": "code",
   "execution_count": 42,
   "metadata": {},
   "outputs": [
    {
     "data": {
      "image/png": "[encoded data removed]",
      "text/plain": [
       "<Figure size 432x288 with 1 Axes>"
      ]
     },
     "metadata": {
      "needs_background": "light"
     },
     "output_type": "display_data"
    },
    {
     "data": {
      "image/png": "[encoded data removed]",
      "text/plain": [
       "<Figure size 432x288 with 1 Axes>"
      ]
     },
     "metadata": {
      "needs_background": "light"
     },
     "output_type": "display_data"
    }
   ],
   "source": [
    "# Данные с выбросами\n",
    "df['days_exposition'].hist(bins=100)\n",
    "plt.show()\n",
    "# Данные без выбросов и ошибок\n",
    "good_days_exposition = df.query('days_exposition >= 7 and days_exposition <= 420')['days_exposition']\n",
    "good_days_exposition.hist(bins=100)\n",
    "plt.show()"
   ]
  },
  {
   "cell_type": "markdown",
   "metadata": {},
   "source": [
    "### Факторы, влияющие на стоимость недвижимости"
   ]
  },
  {
   "cell_type": "markdown",
   "metadata": {},
   "source": [
    "Факторы будем рассматривать в контексте данных, прошедших очистку на предыдущих этапах. \n",
    "Срезы сохранены в следующих переменных:"
   ]
  },
  {
   "cell_type": "code",
   "execution_count": 43,
   "metadata": {},
   "outputs": [],
   "source": [
    "total_area_query = 'total_area_m2 >= 12 and total_area_m2 <= 115'\n",
    "last_price_query = 'last_price >= 4.3e+5 and last_price <= 1.2e+7'\n",
    "rooms_query = 'number_of_rooms >= 1 and number_of_rooms <= 6'\n",
    "ceiling_height_query = 'ceiling_height_m2 >= 2.4 and ceiling_height_m2 <= 3.2'\n",
    "days_exposition_query = 'days_exposition >= 7 and days_exposition <= 420'"
   ]
  },
  {
   "cell_type": "markdown",
   "metadata": {},
   "source": [
    "#### Зависимость стоимости недвижимости от цены квадратного метра"
   ]
  },
  {
   "cell_type": "code",
   "execution_count": 44,
   "metadata": {},
   "outputs": [
    {
     "data": {
      "image/png": "[encoded data removed]",
      "text/plain": [
       "<Figure size 432x288 with 1 Axes>"
      ]
     },
     "metadata": {
      "needs_background": "light"
     },
     "output_type": "display_data"
    }
   ],
   "source": [
    "clean_df = df.query(total_area_query and last_price_query)\n",
    "clean_df.plot(x='price_m2', y='last_price', kind='scatter')\n",
    "plt.show()"
   ]
  },
  {
   "cell_type": "code",
   "execution_count": 45,
   "metadata": {},
   "outputs": [
    {
     "data": {
      "text/plain": [
       "0.6076566035699482"
      ]
     },
     "execution_count": 45,
     "metadata": {},
     "output_type": "execute_result"
    }
   ],
   "source": [
    "clean_df['price_m2'].corr(clean_df['last_price'])"
   ]
  },
  {
   "cell_type": "markdown",
   "metadata": {},
   "source": [
    "#### вывод \n",
    "По графикам и коэффициенту корреляции видно, что взаимосвязь между изменением цены за квадратный метр и ростом стоимости недвижимости есть."
   ]
  },
  {
   "cell_type": "markdown",
   "metadata": {},
   "source": [
    "#### Зависимость стоимости недвижимости от числа комнат"
   ]
  },
  {
   "cell_type": "code",
   "execution_count": 46,
   "metadata": {},
   "outputs": [
    {
     "data": {
      "image/png": "[encoded data removed]",
      "text/plain": [
       "<Figure size 432x288 with 1 Axes>"
      ]
     },
     "metadata": {
      "needs_background": "light"
     },
     "output_type": "display_data"
    }
   ],
   "source": [
    "clean_df = df.query(rooms_query and last_price_query)\n",
    "\n",
    "clean_df.plot(x='number_of_rooms', y='last_price', kind='scatter')\n",
    "plt.show()"
   ]
  },
  {
   "cell_type": "code",
   "execution_count": 47,
   "metadata": {},
   "outputs": [
    {
     "data": {
      "text/plain": [
       "0.45741915906415"
      ]
     },
     "execution_count": 47,
     "metadata": {},
     "output_type": "execute_result"
    }
   ],
   "source": [
    "clean_df['number_of_rooms'].corr(clean_df['last_price'])"
   ]
  },
  {
   "cell_type": "markdown",
   "metadata": {},
   "source": [
    "#### вывод \n",
    "По графикам и коэффициенту корреляции видно, что взаимосвязь между количеством комнат и стоимостью недвижимости \n",
    "есть -> НО слабая "
   ]
  },
  {
   "cell_type": "markdown",
   "metadata": {},
   "source": [
    "#### Зависимость стоимости недвижимости от этажа"
   ]
  },
  {
   "cell_type": "code",
   "execution_count": 48,
   "metadata": {},
   "outputs": [
    {
     "data": {
      "text/html": [
       "<div>\n",
       "<style scoped>\n",
       "    .dataframe tbody tr th:only-of-type {\n",
       "        vertical-align: middle;\n",
       "    }\n",
       "\n",
       "    .dataframe tbody tr th {\n",
       "        vertical-align: top;\n",
       "    }\n",
       "\n",
       "    .dataframe thead th {\n",
       "        text-align: right;\n",
       "    }\n",
       "</style>\n",
       "<table border=\"1\" class=\"dataframe\">\n",
       "  <thead>\n",
       "    <tr style=\"text-align: right;\">\n",
       "      <th></th>\n",
       "      <th>last_price</th>\n",
       "    </tr>\n",
       "    <tr>\n",
       "      <th>floor</th>\n",
       "      <th></th>\n",
       "    </tr>\n",
       "  </thead>\n",
       "  <tbody>\n",
       "    <tr>\n",
       "      <td>другой</td>\n",
       "      <td>5.070738e+06</td>\n",
       "    </tr>\n",
       "    <tr>\n",
       "      <td>первый</td>\n",
       "      <td>4.160734e+06</td>\n",
       "    </tr>\n",
       "    <tr>\n",
       "      <td>последний</td>\n",
       "      <td>4.532461e+06</td>\n",
       "    </tr>\n",
       "  </tbody>\n",
       "</table>\n",
       "</div>"
      ],
      "text/plain": [
       "             last_price\n",
       "floor                  \n",
       "другой     5.070738e+06\n",
       "первый     4.160734e+06\n",
       "последний  4.532461e+06"
      ]
     },
     "execution_count": 48,
     "metadata": {},
     "output_type": "execute_result"
    }
   ],
   "source": [
    "df[['floor', 'last_price']].query(last_price_query).pivot_table(index='floor', values='last_price')"
   ]
  },
  {
   "cell_type": "markdown",
   "metadata": {},
   "source": [
    "- Первый этаж – самый дешевый \n",
    "- Этажи между как видно самые дорогие\n",
    "- Последний этаж выступает средним между другими и первым"
   ]
  },
  {
   "cell_type": "markdown",
   "metadata": {},
   "source": [
    "#### Зависимость стоимости недвижимости от удалённости до центра города"
   ]
  },
  {
   "cell_type": "code",
   "execution_count": 49,
   "metadata": {},
   "outputs": [
    {
     "data": {
      "image/png": "[encoded data removed]",
      "text/plain": [
       "<Figure size 432x288 with 1 Axes>"
      ]
     },
     "metadata": {
      "needs_background": "light"
     },
     "output_type": "display_data"
    }
   ],
   "source": [
    "clean_df = df.query(last_price_query)\n",
    "df.plot(x='city_center_distance_m', y='last_price', kind='scatter')\n",
    "plt.show()"
   ]
  },
  {
   "cell_type": "code",
   "execution_count": 50,
   "metadata": {},
   "outputs": [
    {
     "data": {
      "text/plain": [
       "-0.541151939868345"
      ]
     },
     "execution_count": 50,
     "metadata": {},
     "output_type": "execute_result"
    }
   ],
   "source": [
    "clean_df['city_center_distance_m'].corr(clean_df['last_price'])"
   ]
  },
  {
   "cell_type": "markdown",
   "metadata": {},
   "source": [
    "- По коэффициенту Пирсона видно, что взаимосвязь между расстоянием от центра и ценой -> близка к -1.\n",
    "- А по графику видно что основная часть дорогих объектов ближе к центру."
   ]
  },
  {
   "cell_type": "markdown",
   "metadata": {},
   "source": [
    "#### Зависимость стоимости недвижимости от даты публикации объявления"
   ]
  },
  {
   "cell_type": "code",
   "execution_count": 51,
   "metadata": {},
   "outputs": [
    {
     "data": {
      "text/html": [
       "<div>\n",
       "<style scoped>\n",
       "    .dataframe tbody tr th:only-of-type {\n",
       "        vertical-align: middle;\n",
       "    }\n",
       "\n",
       "    .dataframe tbody tr th {\n",
       "        vertical-align: top;\n",
       "    }\n",
       "\n",
       "    .dataframe thead th {\n",
       "        text-align: right;\n",
       "    }\n",
       "</style>\n",
       "<table border=\"1\" class=\"dataframe\">\n",
       "  <thead>\n",
       "    <tr style=\"text-align: right;\">\n",
       "      <th></th>\n",
       "      <th>singly_day_exposition</th>\n",
       "      <th>singly_month_exposition</th>\n",
       "      <th>singly_year_exposition</th>\n",
       "      <th>last_price</th>\n",
       "    </tr>\n",
       "  </thead>\n",
       "  <tbody>\n",
       "    <tr>\n",
       "      <td>singly_day_exposition</td>\n",
       "      <td>1.000000</td>\n",
       "      <td>0.011474</td>\n",
       "      <td>-0.002846</td>\n",
       "      <td>-0.014904</td>\n",
       "    </tr>\n",
       "    <tr>\n",
       "      <td>singly_month_exposition</td>\n",
       "      <td>0.011474</td>\n",
       "      <td>1.000000</td>\n",
       "      <td>-0.267940</td>\n",
       "      <td>0.005329</td>\n",
       "    </tr>\n",
       "    <tr>\n",
       "      <td>singly_year_exposition</td>\n",
       "      <td>-0.002846</td>\n",
       "      <td>-0.267940</td>\n",
       "      <td>1.000000</td>\n",
       "      <td>-0.004033</td>\n",
       "    </tr>\n",
       "    <tr>\n",
       "      <td>last_price</td>\n",
       "      <td>-0.014904</td>\n",
       "      <td>0.005329</td>\n",
       "      <td>-0.004033</td>\n",
       "      <td>1.000000</td>\n",
       "    </tr>\n",
       "  </tbody>\n",
       "</table>\n",
       "</div>"
      ],
      "text/plain": [
       "                         singly_day_exposition  singly_month_exposition  \\\n",
       "singly_day_exposition                 1.000000                 0.011474   \n",
       "singly_month_exposition               0.011474                 1.000000   \n",
       "singly_year_exposition               -0.002846                -0.267940   \n",
       "last_price                           -0.014904                 0.005329   \n",
       "\n",
       "                         singly_year_exposition  last_price  \n",
       "singly_day_exposition                 -0.002846   -0.014904  \n",
       "singly_month_exposition               -0.267940    0.005329  \n",
       "singly_year_exposition                 1.000000   -0.004033  \n",
       "last_price                            -0.004033    1.000000  "
      ]
     },
     "execution_count": 51,
     "metadata": {},
     "output_type": "execute_result"
    }
   ],
   "source": [
    "clean_df = df.query(days_exposition_query and last_price_query)\n",
    "clean_df[['singly_day_exposition', 'singly_month_exposition', 'singly_year_exposition', 'last_price']].corr()"
   ]
  },
  {
   "cell_type": "markdown",
   "metadata": {},
   "source": [
    "- Связи между днями недели, месяцами, годами публикации и стоимостью недвижимости -> нет, коэффицент Пирсона равен 0\n",
    "- из таблицы связь есть только между месяцем и годом, но это не влияет на зависимость со стоимостью"
   ]
  },
  {
   "cell_type": "markdown",
   "metadata": {},
   "source": [
    "#### 10 населённых пунктов с наибольшим числом объявлений"
   ]
  },
  {
   "cell_type": "code",
   "execution_count": 52,
   "metadata": {},
   "outputs": [
    {
     "data": {
      "text/plain": [
       "санкт-петербург      15721\n",
       "поселок мурино         556\n",
       "поселок шушары         440\n",
       "всеволожск             398\n",
       "пушкин                 369\n",
       "колпино                338\n",
       "поселок парголово      327\n",
       "гатчина                307\n",
       "деревня кудрово        299\n",
       "выборг                 237\n",
       "Name: city_name, dtype: int64"
      ]
     },
     "execution_count": 52,
     "metadata": {},
     "output_type": "execute_result"
    }
   ],
   "source": [
    "top_city_name = df['city_name'].value_counts().head(10)\n",
    "top_city_name_index = list(top_city_name.index)\n",
    "top_city_name_query = 'city_name in @top_city_name_index'\n",
    "top_city_name"
   ]
  },
  {
   "cell_type": "code",
   "execution_count": 53,
   "metadata": {},
   "outputs": [
    {
     "data": {
      "text/html": [
       "<div>\n",
       "<style scoped>\n",
       "    .dataframe tbody tr th:only-of-type {\n",
       "        vertical-align: middle;\n",
       "    }\n",
       "\n",
       "    .dataframe tbody tr th {\n",
       "        vertical-align: top;\n",
       "    }\n",
       "\n",
       "    .dataframe thead th {\n",
       "        text-align: right;\n",
       "    }\n",
       "</style>\n",
       "<table border=\"1\" class=\"dataframe\">\n",
       "  <thead>\n",
       "    <tr style=\"text-align: right;\">\n",
       "      <th></th>\n",
       "      <th>price_m2</th>\n",
       "    </tr>\n",
       "    <tr>\n",
       "      <th>city_name</th>\n",
       "      <th></th>\n",
       "    </tr>\n",
       "  </thead>\n",
       "  <tbody>\n",
       "    <tr>\n",
       "      <td>санкт-петербург</td>\n",
       "      <td>105628.948318</td>\n",
       "    </tr>\n",
       "    <tr>\n",
       "      <td>поселок лисий нос</td>\n",
       "      <td>100660.814239</td>\n",
       "    </tr>\n",
       "    <tr>\n",
       "      <td>зеленогорск</td>\n",
       "      <td>100636.523580</td>\n",
       "    </tr>\n",
       "    <tr>\n",
       "      <td>пушкин</td>\n",
       "      <td>100322.823868</td>\n",
       "    </tr>\n",
       "    <tr>\n",
       "      <td>кудрово</td>\n",
       "      <td>99903.345867</td>\n",
       "    </tr>\n",
       "    <tr>\n",
       "      <td>...</td>\n",
       "      <td>...</td>\n",
       "    </tr>\n",
       "    <tr>\n",
       "      <td>поселок совхозный</td>\n",
       "      <td>12629.129129</td>\n",
       "    </tr>\n",
       "    <tr>\n",
       "      <td>деревня выскатка</td>\n",
       "      <td>12335.480902</td>\n",
       "    </tr>\n",
       "    <tr>\n",
       "      <td>деревня вахнова кара</td>\n",
       "      <td>11688.311688</td>\n",
       "    </tr>\n",
       "    <tr>\n",
       "      <td>поселок станции свирь</td>\n",
       "      <td>11481.481481</td>\n",
       "    </tr>\n",
       "    <tr>\n",
       "      <td>деревня старополье</td>\n",
       "      <td>11206.221198</td>\n",
       "    </tr>\n",
       "  </tbody>\n",
       "</table>\n",
       "<p>330 rows × 1 columns</p>\n",
       "</div>"
      ],
      "text/plain": [
       "                            price_m2\n",
       "city_name                           \n",
       "санкт-петербург        105628.948318\n",
       "поселок лисий нос      100660.814239\n",
       "зеленогорск            100636.523580\n",
       "пушкин                 100322.823868\n",
       "кудрово                 99903.345867\n",
       "...                              ...\n",
       "поселок совхозный       12629.129129\n",
       "деревня выскатка        12335.480902\n",
       "деревня вахнова кара    11688.311688\n",
       "поселок станции свирь   11481.481481\n",
       "деревня старополье      11206.221198\n",
       "\n",
       "[330 rows x 1 columns]"
      ]
     },
     "execution_count": 53,
     "metadata": {},
     "output_type": "execute_result"
    }
   ],
   "source": [
    "(\n",
    "    df.query(top_city_name_query and last_price_query)\n",
    "    .pivot_table(index='city_name', values='price_m2')\n",
    "    .sort_values(by='price_m2', ascending=False)\n",
    ")"
   ]
  },
  {
   "cell_type": "markdown",
   "metadata": {},
   "source": [
    "- Санкт-Петербурге квадратный метр самый дорогой\n",
    "- деревня Cтарополье – самый дешевый.\n",
    "\n",
    "Почти в 10 раз разница между Питером и деревней Cтарополье"
   ]
  },
  {
   "cell_type": "markdown",
   "metadata": {},
   "source": [
    "### Предложения квартир в Санкт-Петербурге"
   ]
  },
  {
   "cell_type": "code",
   "execution_count": 54,
   "metadata": {},
   "outputs": [
    {
     "data": {
      "text/html": [
       "<div>\n",
       "<style scoped>\n",
       "    .dataframe tbody tr th:only-of-type {\n",
       "        vertical-align: middle;\n",
       "    }\n",
       "\n",
       "    .dataframe tbody tr th {\n",
       "        vertical-align: top;\n",
       "    }\n",
       "\n",
       "    .dataframe thead th {\n",
       "        text-align: right;\n",
       "    }\n",
       "</style>\n",
       "<table border=\"1\" class=\"dataframe\">\n",
       "  <thead>\n",
       "    <tr style=\"text-align: right;\">\n",
       "      <th></th>\n",
       "      <th>total_images</th>\n",
       "      <th>last_price</th>\n",
       "      <th>total_area_m2</th>\n",
       "      <th>first_day_exposition</th>\n",
       "      <th>number_of_rooms</th>\n",
       "      <th>ceiling_height_m2</th>\n",
       "      <th>total_floors_in_house</th>\n",
       "      <th>living_area_m2</th>\n",
       "      <th>floor</th>\n",
       "      <th>is_apartment</th>\n",
       "      <th>...</th>\n",
       "      <th>nearest_park_distance_m</th>\n",
       "      <th>ponds_numbers_within_3km</th>\n",
       "      <th>nearest_pond_distance_m</th>\n",
       "      <th>days_exposition</th>\n",
       "      <th>price_m2</th>\n",
       "      <th>singly_day_exposition</th>\n",
       "      <th>singly_month_exposition</th>\n",
       "      <th>singly_year_exposition</th>\n",
       "      <th>kitchen_total_areas_ration</th>\n",
       "      <th>living_total_areas_ration</th>\n",
       "    </tr>\n",
       "  </thead>\n",
       "  <tbody>\n",
       "    <tr>\n",
       "      <td>0</td>\n",
       "      <td>20</td>\n",
       "      <td>13000000.0</td>\n",
       "      <td>108.00</td>\n",
       "      <td>2019-03-07</td>\n",
       "      <td>3</td>\n",
       "      <td>2.70</td>\n",
       "      <td>16</td>\n",
       "      <td>83.00</td>\n",
       "      <td>другой</td>\n",
       "      <td>False</td>\n",
       "      <td>...</td>\n",
       "      <td>482</td>\n",
       "      <td>2</td>\n",
       "      <td>755</td>\n",
       "      <td>95</td>\n",
       "      <td>120370.370370</td>\n",
       "      <td>3</td>\n",
       "      <td>3</td>\n",
       "      <td>2019</td>\n",
       "      <td>0.231481</td>\n",
       "      <td>0.768519</td>\n",
       "    </tr>\n",
       "    <tr>\n",
       "      <td>2</td>\n",
       "      <td>10</td>\n",
       "      <td>5196000.0</td>\n",
       "      <td>56.00</td>\n",
       "      <td>2015-08-20</td>\n",
       "      <td>2</td>\n",
       "      <td>2.65</td>\n",
       "      <td>5</td>\n",
       "      <td>47.70</td>\n",
       "      <td>другой</td>\n",
       "      <td>False</td>\n",
       "      <td>...</td>\n",
       "      <td>90</td>\n",
       "      <td>2</td>\n",
       "      <td>574</td>\n",
       "      <td>558</td>\n",
       "      <td>92785.714286</td>\n",
       "      <td>3</td>\n",
       "      <td>8</td>\n",
       "      <td>2015</td>\n",
       "      <td>0.148214</td>\n",
       "      <td>0.851786</td>\n",
       "    </tr>\n",
       "    <tr>\n",
       "      <td>3</td>\n",
       "      <td>0</td>\n",
       "      <td>64900000.0</td>\n",
       "      <td>159.00</td>\n",
       "      <td>2015-07-24</td>\n",
       "      <td>3</td>\n",
       "      <td>2.65</td>\n",
       "      <td>14</td>\n",
       "      <td>42.90</td>\n",
       "      <td>другой</td>\n",
       "      <td>False</td>\n",
       "      <td>...</td>\n",
       "      <td>84</td>\n",
       "      <td>3</td>\n",
       "      <td>234</td>\n",
       "      <td>424</td>\n",
       "      <td>408176.100629</td>\n",
       "      <td>4</td>\n",
       "      <td>7</td>\n",
       "      <td>2015</td>\n",
       "      <td>0.058491</td>\n",
       "      <td>0.269811</td>\n",
       "    </tr>\n",
       "    <tr>\n",
       "      <td>4</td>\n",
       "      <td>2</td>\n",
       "      <td>10000000.0</td>\n",
       "      <td>100.00</td>\n",
       "      <td>2018-06-19</td>\n",
       "      <td>2</td>\n",
       "      <td>3.03</td>\n",
       "      <td>14</td>\n",
       "      <td>59.00</td>\n",
       "      <td>другой</td>\n",
       "      <td>False</td>\n",
       "      <td>...</td>\n",
       "      <td>112</td>\n",
       "      <td>1</td>\n",
       "      <td>48</td>\n",
       "      <td>121</td>\n",
       "      <td>100000.000000</td>\n",
       "      <td>1</td>\n",
       "      <td>6</td>\n",
       "      <td>2018</td>\n",
       "      <td>0.410000</td>\n",
       "      <td>0.590000</td>\n",
       "    </tr>\n",
       "    <tr>\n",
       "      <td>7</td>\n",
       "      <td>5</td>\n",
       "      <td>7915000.0</td>\n",
       "      <td>71.60</td>\n",
       "      <td>2019-04-18</td>\n",
       "      <td>2</td>\n",
       "      <td>2.65</td>\n",
       "      <td>24</td>\n",
       "      <td>52.70</td>\n",
       "      <td>другой</td>\n",
       "      <td>False</td>\n",
       "      <td>...</td>\n",
       "      <td>0</td>\n",
       "      <td>0</td>\n",
       "      <td>0</td>\n",
       "      <td>95</td>\n",
       "      <td>110544.692737</td>\n",
       "      <td>3</td>\n",
       "      <td>4</td>\n",
       "      <td>2019</td>\n",
       "      <td>0.263966</td>\n",
       "      <td>0.736034</td>\n",
       "    </tr>\n",
       "    <tr>\n",
       "      <td>...</td>\n",
       "      <td>...</td>\n",
       "      <td>...</td>\n",
       "      <td>...</td>\n",
       "      <td>...</td>\n",
       "      <td>...</td>\n",
       "      <td>...</td>\n",
       "      <td>...</td>\n",
       "      <td>...</td>\n",
       "      <td>...</td>\n",
       "      <td>...</td>\n",
       "      <td>...</td>\n",
       "      <td>...</td>\n",
       "      <td>...</td>\n",
       "      <td>...</td>\n",
       "      <td>...</td>\n",
       "      <td>...</td>\n",
       "      <td>...</td>\n",
       "      <td>...</td>\n",
       "      <td>...</td>\n",
       "      <td>...</td>\n",
       "      <td>...</td>\n",
       "    </tr>\n",
       "    <tr>\n",
       "      <td>23689</td>\n",
       "      <td>13</td>\n",
       "      <td>3550000.0</td>\n",
       "      <td>35.30</td>\n",
       "      <td>2018-02-28</td>\n",
       "      <td>1</td>\n",
       "      <td>2.86</td>\n",
       "      <td>15</td>\n",
       "      <td>26.20</td>\n",
       "      <td>другой</td>\n",
       "      <td>False</td>\n",
       "      <td>...</td>\n",
       "      <td>353</td>\n",
       "      <td>2</td>\n",
       "      <td>652</td>\n",
       "      <td>29</td>\n",
       "      <td>100566.572238</td>\n",
       "      <td>2</td>\n",
       "      <td>2</td>\n",
       "      <td>2018</td>\n",
       "      <td>0.257790</td>\n",
       "      <td>0.742210</td>\n",
       "    </tr>\n",
       "    <tr>\n",
       "      <td>23690</td>\n",
       "      <td>3</td>\n",
       "      <td>5500000.0</td>\n",
       "      <td>52.00</td>\n",
       "      <td>2018-07-19</td>\n",
       "      <td>2</td>\n",
       "      <td>2.65</td>\n",
       "      <td>5</td>\n",
       "      <td>46.00</td>\n",
       "      <td>другой</td>\n",
       "      <td>False</td>\n",
       "      <td>...</td>\n",
       "      <td>300</td>\n",
       "      <td>0</td>\n",
       "      <td>0</td>\n",
       "      <td>15</td>\n",
       "      <td>105769.230769</td>\n",
       "      <td>3</td>\n",
       "      <td>7</td>\n",
       "      <td>2018</td>\n",
       "      <td>0.115385</td>\n",
       "      <td>0.884615</td>\n",
       "    </tr>\n",
       "    <tr>\n",
       "      <td>23691</td>\n",
       "      <td>11</td>\n",
       "      <td>9470000.0</td>\n",
       "      <td>72.90</td>\n",
       "      <td>2016-10-13</td>\n",
       "      <td>2</td>\n",
       "      <td>2.75</td>\n",
       "      <td>25</td>\n",
       "      <td>62.30</td>\n",
       "      <td>другой</td>\n",
       "      <td>False</td>\n",
       "      <td>...</td>\n",
       "      <td>0</td>\n",
       "      <td>1</td>\n",
       "      <td>806</td>\n",
       "      <td>519</td>\n",
       "      <td>129903.978052</td>\n",
       "      <td>3</td>\n",
       "      <td>10</td>\n",
       "      <td>2016</td>\n",
       "      <td>0.145405</td>\n",
       "      <td>0.854595</td>\n",
       "    </tr>\n",
       "    <tr>\n",
       "      <td>23694</td>\n",
       "      <td>9</td>\n",
       "      <td>9700000.0</td>\n",
       "      <td>133.81</td>\n",
       "      <td>2017-03-21</td>\n",
       "      <td>3</td>\n",
       "      <td>3.70</td>\n",
       "      <td>5</td>\n",
       "      <td>119.98</td>\n",
       "      <td>другой</td>\n",
       "      <td>False</td>\n",
       "      <td>...</td>\n",
       "      <td>796</td>\n",
       "      <td>3</td>\n",
       "      <td>381</td>\n",
       "      <td>95</td>\n",
       "      <td>72490.845228</td>\n",
       "      <td>1</td>\n",
       "      <td>3</td>\n",
       "      <td>2017</td>\n",
       "      <td>0.103356</td>\n",
       "      <td>0.896644</td>\n",
       "    </tr>\n",
       "    <tr>\n",
       "      <td>23697</td>\n",
       "      <td>13</td>\n",
       "      <td>11475000.0</td>\n",
       "      <td>76.75</td>\n",
       "      <td>2017-03-28</td>\n",
       "      <td>2</td>\n",
       "      <td>3.00</td>\n",
       "      <td>17</td>\n",
       "      <td>53.45</td>\n",
       "      <td>другой</td>\n",
       "      <td>False</td>\n",
       "      <td>...</td>\n",
       "      <td>173</td>\n",
       "      <td>3</td>\n",
       "      <td>196</td>\n",
       "      <td>602</td>\n",
       "      <td>149511.400651</td>\n",
       "      <td>1</td>\n",
       "      <td>3</td>\n",
       "      <td>2017</td>\n",
       "      <td>0.303583</td>\n",
       "      <td>0.696417</td>\n",
       "    </tr>\n",
       "  </tbody>\n",
       "</table>\n",
       "<p>15721 rows × 28 columns</p>\n",
       "</div>"
      ],
      "text/plain": [
       "       total_images  last_price  total_area_m2 first_day_exposition  \\\n",
       "0                20  13000000.0         108.00           2019-03-07   \n",
       "2                10   5196000.0          56.00           2015-08-20   \n",
       "3                 0  64900000.0         159.00           2015-07-24   \n",
       "4                 2  10000000.0         100.00           2018-06-19   \n",
       "7                 5   7915000.0          71.60           2019-04-18   \n",
       "...             ...         ...            ...                  ...   \n",
       "23689            13   3550000.0          35.30           2018-02-28   \n",
       "23690             3   5500000.0          52.00           2018-07-19   \n",
       "23691            11   9470000.0          72.90           2016-10-13   \n",
       "23694             9   9700000.0         133.81           2017-03-21   \n",
       "23697            13  11475000.0          76.75           2017-03-28   \n",
       "\n",
       "       number_of_rooms  ceiling_height_m2  total_floors_in_house  \\\n",
       "0                    3               2.70                     16   \n",
       "2                    2               2.65                      5   \n",
       "3                    3               2.65                     14   \n",
       "4                    2               3.03                     14   \n",
       "7                    2               2.65                     24   \n",
       "...                ...                ...                    ...   \n",
       "23689                1               2.86                     15   \n",
       "23690                2               2.65                      5   \n",
       "23691                2               2.75                     25   \n",
       "23694                3               3.70                      5   \n",
       "23697                2               3.00                     17   \n",
       "\n",
       "       living_area_m2   floor  is_apartment  ...  nearest_park_distance_m  \\\n",
       "0               83.00  другой         False  ...                      482   \n",
       "2               47.70  другой         False  ...                       90   \n",
       "3               42.90  другой         False  ...                       84   \n",
       "4               59.00  другой         False  ...                      112   \n",
       "7               52.70  другой         False  ...                        0   \n",
       "...               ...     ...           ...  ...                      ...   \n",
       "23689           26.20  другой         False  ...                      353   \n",
       "23690           46.00  другой         False  ...                      300   \n",
       "23691           62.30  другой         False  ...                        0   \n",
       "23694          119.98  другой         False  ...                      796   \n",
       "23697           53.45  другой         False  ...                      173   \n",
       "\n",
       "       ponds_numbers_within_3km  nearest_pond_distance_m  days_exposition  \\\n",
       "0                             2                      755               95   \n",
       "2                             2                      574              558   \n",
       "3                             3                      234              424   \n",
       "4                             1                       48              121   \n",
       "7                             0                        0               95   \n",
       "...                         ...                      ...              ...   \n",
       "23689                         2                      652               29   \n",
       "23690                         0                        0               15   \n",
       "23691                         1                      806              519   \n",
       "23694                         3                      381               95   \n",
       "23697                         3                      196              602   \n",
       "\n",
       "            price_m2  singly_day_exposition  singly_month_exposition  \\\n",
       "0      120370.370370                      3                        3   \n",
       "2       92785.714286                      3                        8   \n",
       "3      408176.100629                      4                        7   \n",
       "4      100000.000000                      1                        6   \n",
       "7      110544.692737                      3                        4   \n",
       "...              ...                    ...                      ...   \n",
       "23689  100566.572238                      2                        2   \n",
       "23690  105769.230769                      3                        7   \n",
       "23691  129903.978052                      3                       10   \n",
       "23694   72490.845228                      1                        3   \n",
       "23697  149511.400651                      1                        3   \n",
       "\n",
       "       singly_year_exposition  kitchen_total_areas_ration  \\\n",
       "0                        2019                    0.231481   \n",
       "2                        2015                    0.148214   \n",
       "3                        2015                    0.058491   \n",
       "4                        2018                    0.410000   \n",
       "7                        2019                    0.263966   \n",
       "...                       ...                         ...   \n",
       "23689                    2018                    0.257790   \n",
       "23690                    2018                    0.115385   \n",
       "23691                    2016                    0.145405   \n",
       "23694                    2017                    0.103356   \n",
       "23697                    2017                    0.303583   \n",
       "\n",
       "       living_total_areas_ration  \n",
       "0                       0.768519  \n",
       "2                       0.851786  \n",
       "3                       0.269811  \n",
       "4                       0.590000  \n",
       "7                       0.736034  \n",
       "...                          ...  \n",
       "23689                   0.742210  \n",
       "23690                   0.884615  \n",
       "23691                   0.854595  \n",
       "23694                   0.896644  \n",
       "23697                   0.696417  \n",
       "\n",
       "[15721 rows x 28 columns]"
      ]
     },
     "execution_count": 54,
     "metadata": {},
     "output_type": "execute_result"
    }
   ],
   "source": [
    "piter_df = pd.DataFrame(df.loc[df['city_name'] == \"санкт-петербург\"])\n",
    "piter_df.reset_index()\n",
    "piter_df"
   ]
  },
  {
   "cell_type": "markdown",
   "metadata": {},
   "source": [
    "###### Какая область входит в центр."
   ]
  },
  {
   "cell_type": "code",
   "execution_count": 55,
   "metadata": {},
   "outputs": [],
   "source": [
    "# Создадим столбец с расстоянием до центра в километрах округляя до целых значений\n",
    "def m_to_km(row):\n",
    "    km = 1000\n",
    "    city_dis = row['city_center_distance_m']\n",
    "    return city_dis/km\n",
    "\n",
    "piter_df['city_center_distance_m'] = piter_df.apply(m_to_km, axis=1)\n",
    "\n",
    "piter_df['city_center_distance_m'] = piter_df['city_center_distance_m'].astype('int')"
   ]
  },
  {
   "cell_type": "markdown",
   "metadata": {},
   "source": [
    "Посчитаем среднюю цену для каждого километра:"
   ]
  },
  {
   "cell_type": "code",
   "execution_count": 56,
   "metadata": {},
   "outputs": [
    {
     "data": {
      "text/html": [
       "<div>\n",
       "<style scoped>\n",
       "    .dataframe tbody tr th:only-of-type {\n",
       "        vertical-align: middle;\n",
       "    }\n",
       "\n",
       "    .dataframe tbody tr th {\n",
       "        vertical-align: top;\n",
       "    }\n",
       "\n",
       "    .dataframe thead th {\n",
       "        text-align: right;\n",
       "    }\n",
       "</style>\n",
       "<table border=\"1\" class=\"dataframe\">\n",
       "  <thead>\n",
       "    <tr style=\"text-align: right;\">\n",
       "      <th></th>\n",
       "      <th>last_price</th>\n",
       "    </tr>\n",
       "    <tr>\n",
       "      <th>city_center_distance_m</th>\n",
       "      <th></th>\n",
       "    </tr>\n",
       "  </thead>\n",
       "  <tbody>\n",
       "    <tr>\n",
       "      <td>0</td>\n",
       "      <td>8.429409e+06</td>\n",
       "    </tr>\n",
       "    <tr>\n",
       "      <td>1</td>\n",
       "      <td>8.396685e+06</td>\n",
       "    </tr>\n",
       "    <tr>\n",
       "      <td>2</td>\n",
       "      <td>7.721342e+06</td>\n",
       "    </tr>\n",
       "    <tr>\n",
       "      <td>3</td>\n",
       "      <td>7.598287e+06</td>\n",
       "    </tr>\n",
       "    <tr>\n",
       "      <td>4</td>\n",
       "      <td>7.856875e+06</td>\n",
       "    </tr>\n",
       "    <tr>\n",
       "      <td>5</td>\n",
       "      <td>7.446107e+06</td>\n",
       "    </tr>\n",
       "    <tr>\n",
       "      <td>6</td>\n",
       "      <td>6.887989e+06</td>\n",
       "    </tr>\n",
       "    <tr>\n",
       "      <td>7</td>\n",
       "      <td>6.765614e+06</td>\n",
       "    </tr>\n",
       "    <tr>\n",
       "      <td>8</td>\n",
       "      <td>6.353700e+06</td>\n",
       "    </tr>\n",
       "    <tr>\n",
       "      <td>9</td>\n",
       "      <td>5.347273e+06</td>\n",
       "    </tr>\n",
       "    <tr>\n",
       "      <td>10</td>\n",
       "      <td>5.386259e+06</td>\n",
       "    </tr>\n",
       "    <tr>\n",
       "      <td>11</td>\n",
       "      <td>5.338139e+06</td>\n",
       "    </tr>\n",
       "    <tr>\n",
       "      <td>12</td>\n",
       "      <td>5.427605e+06</td>\n",
       "    </tr>\n",
       "    <tr>\n",
       "      <td>13</td>\n",
       "      <td>5.571449e+06</td>\n",
       "    </tr>\n",
       "    <tr>\n",
       "      <td>14</td>\n",
       "      <td>5.304019e+06</td>\n",
       "    </tr>\n",
       "    <tr>\n",
       "      <td>15</td>\n",
       "      <td>5.169192e+06</td>\n",
       "    </tr>\n",
       "    <tr>\n",
       "      <td>16</td>\n",
       "      <td>5.077490e+06</td>\n",
       "    </tr>\n",
       "    <tr>\n",
       "      <td>17</td>\n",
       "      <td>4.680344e+06</td>\n",
       "    </tr>\n",
       "    <tr>\n",
       "      <td>18</td>\n",
       "      <td>4.775159e+06</td>\n",
       "    </tr>\n",
       "    <tr>\n",
       "      <td>19</td>\n",
       "      <td>4.583555e+06</td>\n",
       "    </tr>\n",
       "    <tr>\n",
       "      <td>20</td>\n",
       "      <td>6.365864e+06</td>\n",
       "    </tr>\n",
       "    <tr>\n",
       "      <td>21</td>\n",
       "      <td>5.076288e+06</td>\n",
       "    </tr>\n",
       "    <tr>\n",
       "      <td>22</td>\n",
       "      <td>5.095368e+06</td>\n",
       "    </tr>\n",
       "    <tr>\n",
       "      <td>23</td>\n",
       "      <td>4.126867e+06</td>\n",
       "    </tr>\n",
       "    <tr>\n",
       "      <td>24</td>\n",
       "      <td>3.862235e+06</td>\n",
       "    </tr>\n",
       "    <tr>\n",
       "      <td>25</td>\n",
       "      <td>4.014913e+06</td>\n",
       "    </tr>\n",
       "    <tr>\n",
       "      <td>26</td>\n",
       "      <td>3.575000e+06</td>\n",
       "    </tr>\n",
       "    <tr>\n",
       "      <td>27</td>\n",
       "      <td>2.250000e+06</td>\n",
       "    </tr>\n",
       "    <tr>\n",
       "      <td>28</td>\n",
       "      <td>4.910500e+06</td>\n",
       "    </tr>\n",
       "    <tr>\n",
       "      <td>29</td>\n",
       "      <td>3.833333e+06</td>\n",
       "    </tr>\n",
       "  </tbody>\n",
       "</table>\n",
       "</div>"
      ],
      "text/plain": [
       "                          last_price\n",
       "city_center_distance_m              \n",
       "0                       8.429409e+06\n",
       "1                       8.396685e+06\n",
       "2                       7.721342e+06\n",
       "3                       7.598287e+06\n",
       "4                       7.856875e+06\n",
       "5                       7.446107e+06\n",
       "6                       6.887989e+06\n",
       "7                       6.765614e+06\n",
       "8                       6.353700e+06\n",
       "9                       5.347273e+06\n",
       "10                      5.386259e+06\n",
       "11                      5.338139e+06\n",
       "12                      5.427605e+06\n",
       "13                      5.571449e+06\n",
       "14                      5.304019e+06\n",
       "15                      5.169192e+06\n",
       "16                      5.077490e+06\n",
       "17                      4.680344e+06\n",
       "18                      4.775159e+06\n",
       "19                      4.583555e+06\n",
       "20                      6.365864e+06\n",
       "21                      5.076288e+06\n",
       "22                      5.095368e+06\n",
       "23                      4.126867e+06\n",
       "24                      3.862235e+06\n",
       "25                      4.014913e+06\n",
       "26                      3.575000e+06\n",
       "27                      2.250000e+06\n",
       "28                      4.910500e+06\n",
       "29                      3.833333e+06"
      ]
     },
     "execution_count": 56,
     "metadata": {},
     "output_type": "execute_result"
    }
   ],
   "source": [
    "piter_prices = piter_df.query(last_price_query)\n",
    "piter_prices.pivot_table(index='city_center_distance_m', values='last_price')"
   ]
  },
  {
   "cell_type": "markdown",
   "metadata": {},
   "source": [
    "Построим график, который показывает как цена зависит от удалённости от центра:"
   ]
  },
  {
   "cell_type": "code",
   "execution_count": 57,
   "metadata": {},
   "outputs": [
    {
     "data": {
      "image/png": "[encoded data removed]",
      "text/plain": [
       "<Figure size 432x288 with 1 Axes>"
      ]
     },
     "metadata": {
      "needs_background": "light"
     },
     "output_type": "display_data"
    }
   ],
   "source": [
    "(\n",
    "    pd.DataFrame(piter_prices.pivot_table(index='city_center_distance_m', values='last_price').to_records())\n",
    "    .plot(x='city_center_distance_m', y='last_price', kind='scatter', grid=True)\n",
    ")\n",
    "plt.show()"
   ]
  },
  {
   "cell_type": "markdown",
   "metadata": {},
   "source": [
    "#### вывод \n",
    "Граница, где график сильно меняется - 8 км -> это и будет центральная зона. "
   ]
  },
  {
   "cell_type": "markdown",
   "metadata": {},
   "source": [
    "### Выделим сегмент квартир в центре."
   ]
  },
  {
   "cell_type": "code",
   "execution_count": 58,
   "metadata": {},
   "outputs": [
    {
     "data": {
      "text/plain": [
       "3061"
      ]
     },
     "execution_count": 58,
     "metadata": {},
     "output_type": "execute_result"
    }
   ],
   "source": [
    "flat_in_center = pd.DataFrame(piter_prices.query('city_center_distance_m <= 8'))\n",
    "len(flat_in_center)"
   ]
  },
  {
   "cell_type": "markdown",
   "metadata": {},
   "source": [
    "Проанализируем эти 3061 объект недвижимости. Для начала изучим параметры."
   ]
  },
  {
   "cell_type": "code",
   "execution_count": 59,
   "metadata": {},
   "outputs": [
    {
     "data": {
      "text/plain": [
       "count    2957.000000\n",
       "mean       63.140923\n",
       "std        21.036269\n",
       "min        12.000000\n",
       "25%        46.000000\n",
       "50%        61.000000\n",
       "75%        77.760000\n",
       "max       115.000000\n",
       "Name: total_area_m2, dtype: float64"
      ]
     },
     "execution_count": 59,
     "metadata": {},
     "output_type": "execute_result"
    }
   ],
   "source": [
    "# площадь\n",
    "flat_in_center.query(total_area_query)['total_area_m2'].describe()"
   ]
  },
  {
   "cell_type": "markdown",
   "metadata": {},
   "source": [
    "Средняя площадь 61 кв.м."
   ]
  },
  {
   "cell_type": "code",
   "execution_count": 60,
   "metadata": {},
   "outputs": [
    {
     "data": {
      "text/plain": [
       "count    3.061000e+03\n",
       "mean     7.293078e+06\n",
       "std      2.339291e+06\n",
       "min      1.600000e+06\n",
       "25%      5.500000e+06\n",
       "50%      7.100000e+06\n",
       "75%      9.000000e+06\n",
       "max      1.200000e+07\n",
       "Name: last_price, dtype: float64"
      ]
     },
     "execution_count": 60,
     "metadata": {},
     "output_type": "execute_result"
    }
   ],
   "source": [
    "# цена\n",
    "flat_in_center['last_price'].describe()"
   ]
  },
  {
   "cell_type": "markdown",
   "metadata": {},
   "source": [
    "Средняя цена 7.1 млн. руб."
   ]
  },
  {
   "cell_type": "code",
   "execution_count": 61,
   "metadata": {},
   "outputs": [
    {
     "data": {
      "text/plain": [
       "count    3039.000000\n",
       "mean        2.311616\n",
       "std         1.015012\n",
       "min         1.000000\n",
       "25%         2.000000\n",
       "50%         2.000000\n",
       "75%         3.000000\n",
       "max         6.000000\n",
       "Name: number_of_rooms, dtype: float64"
      ]
     },
     "execution_count": 61,
     "metadata": {},
     "output_type": "execute_result"
    }
   ],
   "source": [
    "# число комнат\n",
    "flat_in_center.query(rooms_query)['number_of_rooms'].describe()"
   ]
  },
  {
   "cell_type": "markdown",
   "metadata": {},
   "source": [
    "- 75% квартир до 3 комнатных квартир\n",
    "- а половина квартир до 2 комнатных квартир\n",
    "- максимально только 6 комнатные квартиры "
   ]
  },
  {
   "cell_type": "code",
   "execution_count": 62,
   "metadata": {},
   "outputs": [
    {
     "data": {
      "text/plain": [
       "count    2695.000000\n",
       "mean        2.772954\n",
       "std         0.198679\n",
       "min         2.400000\n",
       "25%         2.650000\n",
       "50%         2.650000\n",
       "75%         3.000000\n",
       "max         3.200000\n",
       "Name: ceiling_height_m2, dtype: float64"
      ]
     },
     "execution_count": 62,
     "metadata": {},
     "output_type": "execute_result"
    }
   ],
   "source": [
    "# высота потолка\n",
    "flat_in_center.query(ceiling_height_query)['ceiling_height_m2'].describe()"
   ]
  },
  {
   "cell_type": "markdown",
   "metadata": {},
   "source": [
    "- 75% квартир с высотой потолков до 3 метров\n",
    "- в среднем квартиры  до 2.65 метров"
   ]
  },
  {
   "cell_type": "markdown",
   "metadata": {},
   "source": [
    "#### Факторы, влияющие на стоимость квартиры."
   ]
  },
  {
   "cell_type": "code",
   "execution_count": 63,
   "metadata": {},
   "outputs": [
    {
     "data": {
      "text/html": [
       "<div>\n",
       "<style scoped>\n",
       "    .dataframe tbody tr th:only-of-type {\n",
       "        vertical-align: middle;\n",
       "    }\n",
       "\n",
       "    .dataframe tbody tr th {\n",
       "        vertical-align: top;\n",
       "    }\n",
       "\n",
       "    .dataframe thead th {\n",
       "        text-align: right;\n",
       "    }\n",
       "</style>\n",
       "<table border=\"1\" class=\"dataframe\">\n",
       "  <thead>\n",
       "    <tr style=\"text-align: right;\">\n",
       "      <th></th>\n",
       "      <th>last_price</th>\n",
       "      <th>city_center_distance_m</th>\n",
       "      <th>total_area_m2</th>\n",
       "      <th>number_of_rooms</th>\n",
       "      <th>ceiling_height_m2</th>\n",
       "      <th>singly_day_exposition</th>\n",
       "      <th>singly_month_exposition</th>\n",
       "      <th>singly_year_exposition</th>\n",
       "    </tr>\n",
       "  </thead>\n",
       "  <tbody>\n",
       "    <tr>\n",
       "      <td>last_price</td>\n",
       "      <td>1.000000</td>\n",
       "      <td>-0.244486</td>\n",
       "      <td>0.720227</td>\n",
       "      <td>0.505539</td>\n",
       "      <td>0.069210</td>\n",
       "      <td>0.026143</td>\n",
       "      <td>-0.015284</td>\n",
       "      <td>0.027245</td>\n",
       "    </tr>\n",
       "    <tr>\n",
       "      <td>total_area_m2</td>\n",
       "      <td>0.720227</td>\n",
       "      <td>-0.256877</td>\n",
       "      <td>1.000000</td>\n",
       "      <td>0.810920</td>\n",
       "      <td>0.088050</td>\n",
       "      <td>-0.000946</td>\n",
       "      <td>0.003051</td>\n",
       "      <td>-0.090171</td>\n",
       "    </tr>\n",
       "    <tr>\n",
       "      <td>number_of_rooms</td>\n",
       "      <td>0.505539</td>\n",
       "      <td>-0.213390</td>\n",
       "      <td>0.810920</td>\n",
       "      <td>1.000000</td>\n",
       "      <td>0.053125</td>\n",
       "      <td>-0.012386</td>\n",
       "      <td>0.001773</td>\n",
       "      <td>-0.060992</td>\n",
       "    </tr>\n",
       "    <tr>\n",
       "      <td>ceiling_height_m2</td>\n",
       "      <td>0.069210</td>\n",
       "      <td>-0.086910</td>\n",
       "      <td>0.088050</td>\n",
       "      <td>0.053125</td>\n",
       "      <td>1.000000</td>\n",
       "      <td>-0.016308</td>\n",
       "      <td>-0.009511</td>\n",
       "      <td>0.062035</td>\n",
       "    </tr>\n",
       "    <tr>\n",
       "      <td>singly_year_exposition</td>\n",
       "      <td>0.027245</td>\n",
       "      <td>0.066346</td>\n",
       "      <td>-0.090171</td>\n",
       "      <td>-0.060992</td>\n",
       "      <td>0.062035</td>\n",
       "      <td>-0.021461</td>\n",
       "      <td>-0.303352</td>\n",
       "      <td>1.000000</td>\n",
       "    </tr>\n",
       "    <tr>\n",
       "      <td>singly_day_exposition</td>\n",
       "      <td>0.026143</td>\n",
       "      <td>0.014356</td>\n",
       "      <td>-0.000946</td>\n",
       "      <td>-0.012386</td>\n",
       "      <td>-0.016308</td>\n",
       "      <td>1.000000</td>\n",
       "      <td>0.048287</td>\n",
       "      <td>-0.021461</td>\n",
       "    </tr>\n",
       "    <tr>\n",
       "      <td>singly_month_exposition</td>\n",
       "      <td>-0.015284</td>\n",
       "      <td>-0.013584</td>\n",
       "      <td>0.003051</td>\n",
       "      <td>0.001773</td>\n",
       "      <td>-0.009511</td>\n",
       "      <td>0.048287</td>\n",
       "      <td>1.000000</td>\n",
       "      <td>-0.303352</td>\n",
       "    </tr>\n",
       "    <tr>\n",
       "      <td>city_center_distance_m</td>\n",
       "      <td>-0.244486</td>\n",
       "      <td>1.000000</td>\n",
       "      <td>-0.256877</td>\n",
       "      <td>-0.213390</td>\n",
       "      <td>-0.086910</td>\n",
       "      <td>0.014356</td>\n",
       "      <td>-0.013584</td>\n",
       "      <td>0.066346</td>\n",
       "    </tr>\n",
       "  </tbody>\n",
       "</table>\n",
       "</div>"
      ],
      "text/plain": [
       "                         last_price  city_center_distance_m  total_area_m2  \\\n",
       "last_price                 1.000000               -0.244486       0.720227   \n",
       "total_area_m2              0.720227               -0.256877       1.000000   \n",
       "number_of_rooms            0.505539               -0.213390       0.810920   \n",
       "ceiling_height_m2          0.069210               -0.086910       0.088050   \n",
       "singly_year_exposition     0.027245                0.066346      -0.090171   \n",
       "singly_day_exposition      0.026143                0.014356      -0.000946   \n",
       "singly_month_exposition   -0.015284               -0.013584       0.003051   \n",
       "city_center_distance_m    -0.244486                1.000000      -0.256877   \n",
       "\n",
       "                         number_of_rooms  ceiling_height_m2  \\\n",
       "last_price                      0.505539           0.069210   \n",
       "total_area_m2                   0.810920           0.088050   \n",
       "number_of_rooms                 1.000000           0.053125   \n",
       "ceiling_height_m2               0.053125           1.000000   \n",
       "singly_year_exposition         -0.060992           0.062035   \n",
       "singly_day_exposition          -0.012386          -0.016308   \n",
       "singly_month_exposition         0.001773          -0.009511   \n",
       "city_center_distance_m         -0.213390          -0.086910   \n",
       "\n",
       "                         singly_day_exposition  singly_month_exposition  \\\n",
       "last_price                            0.026143                -0.015284   \n",
       "total_area_m2                        -0.000946                 0.003051   \n",
       "number_of_rooms                      -0.012386                 0.001773   \n",
       "ceiling_height_m2                    -0.016308                -0.009511   \n",
       "singly_year_exposition               -0.021461                -0.303352   \n",
       "singly_day_exposition                 1.000000                 0.048287   \n",
       "singly_month_exposition               0.048287                 1.000000   \n",
       "city_center_distance_m                0.014356                -0.013584   \n",
       "\n",
       "                         singly_year_exposition  \n",
       "last_price                             0.027245  \n",
       "total_area_m2                         -0.090171  \n",
       "number_of_rooms                       -0.060992  \n",
       "ceiling_height_m2                      0.062035  \n",
       "singly_year_exposition                 1.000000  \n",
       "singly_day_exposition                 -0.021461  \n",
       "singly_month_exposition               -0.303352  \n",
       "city_center_distance_m                 0.066346  "
      ]
     },
     "execution_count": 63,
     "metadata": {},
     "output_type": "execute_result"
    }
   ],
   "source": [
    "clean_data = flat_in_center.query(total_area_query \n",
    "                                        and rooms_query \n",
    "                                        and ceiling_height_query \n",
    "                                        and days_exposition_query)\n",
    "\n",
    "columns = [\n",
    "    'last_price',\n",
    "    'city_center_distance_m',\n",
    "    'total_area_m2',\n",
    "    'number_of_rooms',\n",
    "    'ceiling_height_m2',\n",
    "    'singly_day_exposition',\n",
    "    'singly_month_exposition',\n",
    "    'singly_year_exposition'\n",
    "]\n",
    "\n",
    "clean_data[columns].corr().sort_values('last_price', ascending=False)"
   ]
  },
  {
   "cell_type": "markdown",
   "metadata": {},
   "source": [
    "- Квадратура\n",
    "- Количество комнат\n",
    "- Высота потолка\n",
    "\n",
    "Эти факторы больше всего влияют на цену"
   ]
  },
  {
   "cell_type": "code",
   "execution_count": 64,
   "metadata": {},
   "outputs": [
    {
     "data": {
      "text/html": [
       "<div>\n",
       "<style scoped>\n",
       "    .dataframe tbody tr th:only-of-type {\n",
       "        vertical-align: middle;\n",
       "    }\n",
       "\n",
       "    .dataframe tbody tr th {\n",
       "        vertical-align: top;\n",
       "    }\n",
       "\n",
       "    .dataframe thead th {\n",
       "        text-align: right;\n",
       "    }\n",
       "</style>\n",
       "<table border=\"1\" class=\"dataframe\">\n",
       "  <thead>\n",
       "    <tr style=\"text-align: right;\">\n",
       "      <th></th>\n",
       "      <th>last_price</th>\n",
       "    </tr>\n",
       "    <tr>\n",
       "      <th>floor</th>\n",
       "      <th></th>\n",
       "    </tr>\n",
       "  </thead>\n",
       "  <tbody>\n",
       "    <tr>\n",
       "      <td>первый</td>\n",
       "      <td>6.258485e+06</td>\n",
       "    </tr>\n",
       "    <tr>\n",
       "      <td>последний</td>\n",
       "      <td>7.278612e+06</td>\n",
       "    </tr>\n",
       "    <tr>\n",
       "      <td>другой</td>\n",
       "      <td>7.407367e+06</td>\n",
       "    </tr>\n",
       "  </tbody>\n",
       "</table>\n",
       "</div>"
      ],
      "text/plain": [
       "             last_price\n",
       "floor                  \n",
       "первый     6.258485e+06\n",
       "последний  7.278612e+06\n",
       "другой     7.407367e+06"
      ]
     },
     "execution_count": 64,
     "metadata": {},
     "output_type": "execute_result"
    }
   ],
   "source": [
    "# этаж\n",
    "clean_data.pivot_table(index='floor', values='last_price').sort_values(by='last_price')"
   ]
  },
  {
   "cell_type": "markdown",
   "metadata": {},
   "source": [
    "\n",
    "В Санкт-Петербурге все также самый дешевый этаж – это первый, а самые дорогие – между первым и последним."
   ]
  },
  {
   "cell_type": "markdown",
   "metadata": {},
   "source": [
    "### Шаг 5. Общий вывод"
   ]
  },
  {
   "cell_type": "markdown",
   "metadata": {},
   "source": [
    "Ожидаемо что во 2 столицы - Санкт-Петепбурге квартиры дороже остальных населенных пунктов.\n",
    "Факторы которые больше всего имею зависимость от цены это:\n",
    "- Квадратура\n",
    "- Количество комнат\n",
    "- Высота потолка\n",
    "\n",
    "Квартира в центре Санкт-Петерурга влияет не сильно\n",
    "\n",
    "Зато видно что самые популярные квартиры в Санкт-Петербурге это 2 комнатные на 61 кв.м. с высотой потолков в ~2.65"
   ]
  },
  {
   "cell_type": "markdown",
   "metadata": {},
   "source": [
    "### Чек-лист готовности проекта\n",
    "\n",
    "Поставьте 'x' в выполненных пунктах. Далее нажмите Shift+Enter."
   ]
  },
  {
   "cell_type": "markdown",
   "metadata": {},
   "source": [
    "- [x]  открыт файл\n",
    "- [x]  файлы изучены (выведены первые строки, метод info())\n",
    "- [x]  определены пропущенные значения\n",
    "- [x]  заполнены пропущенные значения\n",
    "- [x]  есть пояснение, какие пропущенные значения обнаружены\n",
    "- [x]  изменены типы данных\n",
    "- [x]  есть пояснение, в каких столбцах изменены типы и почему\n",
    "- [x]  посчитано и добавлено в таблицу: цена квадратного метра\n",
    "- [x]  посчитано и добавлено в таблицу: день недели, месяц и год публикации объявления\n",
    "- [x]  посчитано и добавлено в таблицу: этаж квартиры; варианты — первый, последний, другой\n",
    "- [x]  посчитано и добавлено в таблицу: соотношение жилой и общей площади, а также отношение площади кухни к общей\n",
    "- [x]  изучены следующие параметры: площадь, цена, число комнат, высота потолков\n",
    "- [x]  построены гистограммы для каждого параметра\n",
    "- [x]  выполнено задание: \"Изучите время продажи квартиры. Постройте гистограмму. Посчитайте среднее и медиану. Опишите, сколько обычно занимает продажа. Когда можно считать, что продажи прошли очень быстро, а когда необычно долго?\"\n",
    "- [x]  выполнено задание: \"Уберите редкие и выбивающиеся значения. Опишите, какие особенности обнаружили.\"\n",
    "- [x]  выполнено задание: \"Какие факторы больше всего влияют на стоимость квартиры? Изучите, зависит ли цена от квадратного метра, числа комнат, этажа (первого или последнего), удалённости от центра. Также изучите зависимость от даты размещения: дня недели, месяца и года. \"Выберите 10 населённых пунктов с наибольшим числом объявлений. Посчитайте среднюю цену квадратного метра в этих населённых пунктах. Выделите населённые пункты с самой высокой и низкой стоимостью жилья. Эти данные можно найти по имени в столбце '*locality_name'*. \"\n",
    "- [x]  выполнено задание: \"Изучите предложения квартир: для каждой квартиры есть информация о расстоянии до центра. Выделите квартиры в Санкт-Петербурге (*'locality_name'*). Ваша задача — выяснить, какая область входит в центр. Создайте столбец с расстоянием до центра в километрах: округлите до целых значений. После этого посчитайте среднюю цену для каждого километра. Постройте график: он должен показывать, как цена зависит от удалённости от центра. Определите границу, где график сильно меняется — это и будет центральная зона. \"\n",
    "- [x]  выполнено задание: \"Выделите сегмент квартир в центре. Проанализируйте эту территорию и изучите следующие параметры: площадь, цена, число комнат, высота потолков. Также выделите факторы, которые влияют на стоимость квартиры (число комнат, этаж, удалённость от центра, дата размещения объявления). Сделайте выводы. Отличаются ли они от общих выводов по всему городу?\"\n",
    "- [x]  в каждом этапе есть выводы\n",
    "- [x]  есть общий вывод"
   ]
  }
 ],
 "metadata": {
  "kernelspec": {
   "display_name": "Python 3",
   "language": "python",
   "name": "python3"
  },
  "language_info": {
   "codemirror_mode": {
    "name": "ipython",
    "version": 3
   },
   "file_extension": ".py",
   "mimetype": "text/x-python",
   "name": "python",
   "nbconvert_exporter": "python",
   "pygments_lexer": "ipython3",
   "version": "3.7.4"
  }
 },
 "nbformat": 4,
 "nbformat_minor": 2
}
